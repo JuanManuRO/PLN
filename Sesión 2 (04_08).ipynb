{
 "cells": [
  {
   "cell_type": "markdown",
   "metadata": {
    "id": "Z_EkSDpb8LKJ"
   },
   "source": [
    "<table>\n",
    "    <tr>\n",
    "        <td><img src=\"https://s3.amazonaws.com/media-p.slid.es/uploads/1485763/images/9060062/Header.png\" width=\"300\"/></td>\n",
    "        <td>&nbsp;</td>\n",
    "        <td>\n",
    "            <h1 style=\"font-size:200%;color:blue;text-align:center\">    <FONT COLOR=\"blue\">  Frecuencias-Nubes de Palabras  </FONT>         </h1></td>         \n",
    "        <td>\n",
    "            <tp><p style=\"font-size:99%;text-align:center\">PLN </p></tp>\n",
    "            <tp><p style=\"font-size:115%;text-align:center\">Pregrado MACC 2023-2</p></tp>\n",
    "            <tp><p style=\"font-size:115%;text-align:center\">Prof. Fabián Sánchez</p></tp>\n",
    "        </td>\n",
    "    </tr>\n",
    "</table>"
   ]
  },
  {
   "cell_type": "code",
   "execution_count": 29,
   "metadata": {},
   "outputs": [],
   "source": [
    "import re\n",
    "import pandas as pd\n",
    "import matplotlib.pyplot as plt"
   ]
  },
  {
   "cell_type": "markdown",
   "metadata": {
    "id": "jK4q5-en-A5D"
   },
   "source": [
    "**Objetivo de la sesión:**\n",
    "\n",
    "En esta sección introducimos algunos elementos del preprocesamiento de textos:\n",
    "- Frecuencias de palabras\n",
    "- Nubes de palabras\n",
    "- Expresiones regulares\n",
    "- Tokenización\n",
    "\n",
    "Estos últimos conceptos son fundamentales en el proceso de la normalización y limpieza de texto."
   ]
  },
  {
   "cell_type": "markdown",
   "metadata": {
    "id": "TvHqWBrUndt3"
   },
   "source": [
    "<FONT SIZE=5 COLOR=\"purple\"> 1. GUÍA INTRODUCTORIA </FONT>\n",
    "\n",
    "Para motivar la discusión y abordaje de los conceptos de esta sesión. Vamos a seguir la siguiente guía.\n",
    "\n",
    "- Complete el código que aparece debajo de cada pregunta."
   ]
  },
  {
   "cell_type": "markdown",
   "metadata": {
    "id": "SZxnrz51oHTB"
   },
   "source": [
    "1.1 Seleccione un par de párrafos de alguna fuente e internet de un tema que le interese y coloquelo en la variable *texto*"
   ]
  },
  {
   "cell_type": "code",
   "execution_count": 30,
   "metadata": {
    "id": "3-RBOyn4oRxR"
   },
   "outputs": [],
   "source": [
    "texto= \"Ghostwire: Tokyo es un videojuego de terror y acción japonés perteneciente al género de acción y aventura desarrollado por la empresa Tango Gameworks, el videojuego es la más reciente entrega dirigida por Ikumi Nakamura, una de las artistas principales en videojuegos como Okami, Bayonetta, The Evil Within y es considerada la discípula de Shinki Mikami. Fue anunciado por Mikami en el año 2019, y su lanzamiento se produjo el 25 de marzo de 2022 en PlayStation 5 y Microsoft Windows y el 12 de abril de 2023 en Xbox Series X|S.\""
   ]
  },
  {
   "cell_type": "markdown",
   "metadata": {
    "id": "sUmhM89XoTmR"
   },
   "source": [
    "1.2 ¿Cuántos carácteres tiene la variable texto?"
   ]
  },
  {
   "cell_type": "code",
   "execution_count": 31,
   "metadata": {
    "id": "3y-0iruWo3-p"
   },
   "outputs": [
    {
     "name": "stdout",
     "output_type": "stream",
     "text": [
      "528\n"
     ]
    }
   ],
   "source": [
    "longitud =len(texto)\n",
    "print(longitud)"
   ]
  },
  {
   "cell_type": "markdown",
   "metadata": {
    "id": "pce95ABLpMBR"
   },
   "source": [
    "1.3 ¿Cuál es la función que convierte toda la cadena de texto a minúsculas? ¿Por qué considera que se debe hacer esto en el procesamiento de texto?"
   ]
  },
  {
   "cell_type": "code",
   "execution_count": 32,
   "metadata": {
    "id": "PqVs6iAypapo"
   },
   "outputs": [
    {
     "name": "stdout",
     "output_type": "stream",
     "text": [
      "ghostwire: tokyo es un videojuego de terror y acción japonés perteneciente al género de acción y aventura desarrollado por la empresa tango gameworks, el videojuego es la más reciente entrega dirigida por ikumi nakamura, una de las artistas principales en videojuegos como okami, bayonetta, the evil within y es considerada la discípula de shinki mikami. fue anunciado por mikami en el año 2019, y su lanzamiento se produjo el 25 de marzo de 2022 en playstation 5 y microsoft windows y el 12 de abril de 2023 en xbox series x|s.\n"
     ]
    }
   ],
   "source": [
    "texto_minuscula = texto.lower()\n",
    "print(texto_minuscula)"
   ]
  },
  {
   "cell_type": "markdown",
   "metadata": {
    "id": "OfNZ-8Oso6-R"
   },
   "source": [
    "1.4 ¿ Que función permite separar la cadena de texto en expresiones más pequeñas?"
   ]
  },
  {
   "cell_type": "code",
   "execution_count": 33,
   "metadata": {
    "id": "08V7fOXwpDPQ"
   },
   "outputs": [],
   "source": [
    "lista_texto = texto.split()"
   ]
  },
  {
   "cell_type": "markdown",
   "metadata": {
    "id": "st_BS_Ksp2l1"
   },
   "source": [
    "1.5 ¿Cuál es la longitud de *lista_texto*? Interprete ese valor"
   ]
  },
  {
   "cell_type": "code",
   "execution_count": 34,
   "metadata": {
    "id": "yTwKvhPBp143"
   },
   "outputs": [
    {
     "name": "stdout",
     "output_type": "stream",
     "text": [
      "['Ghostwire:', 'Tokyo', 'es', 'un', 'videojuego', 'de', 'terror', 'y', 'acción', 'japonés', 'perteneciente', 'al', 'género', 'de', 'acción', 'y', 'aventura', 'desarrollado', 'por', 'la', 'empresa', 'Tango', 'Gameworks,', 'el', 'videojuego', 'es', 'la', 'más', 'reciente', 'entrega', 'dirigida', 'por', 'Ikumi', 'Nakamura,', 'una', 'de', 'las', 'artistas', 'principales', 'en', 'videojuegos', 'como', 'Okami,', 'Bayonetta,', 'The', 'Evil', 'Within', 'y', 'es', 'considerada', 'la', 'discípula', 'de', 'Shinki', 'Mikami.', 'Fue', 'anunciado', 'por', 'Mikami', 'en', 'el', 'año', '2019,', 'y', 'su', 'lanzamiento', 'se', 'produjo', 'el', '25', 'de', 'marzo', 'de', '2022', 'en', 'PlayStation', '5', 'y', 'Microsoft', 'Windows', 'y', 'el', '12', 'de', 'abril', 'de', '2023', 'en', 'Xbox', 'Series', 'X|S.']\n"
     ]
    }
   ],
   "source": [
    "print(lista_texto)"
   ]
  },
  {
   "cell_type": "markdown",
   "metadata": {
    "id": "LBmPV9geqho6"
   },
   "source": [
    "1.6 Haga una tabla de frecuencias con lista_texto"
   ]
  },
  {
   "cell_type": "code",
   "execution_count": 35,
   "metadata": {
    "id": "clPp_6ELqoKa",
    "scrolled": true
   },
   "outputs": [],
   "source": [
    "unicos = list(set(lista_texto))\n",
    "conteo = {}\n",
    "for palabra in unicos:\n",
    "    conteo[palabra] = len(re.findall(palabra, texto))\n",
    "tabla = pd.DataFrame.from_dict(conteo, orient='index')"
   ]
  },
  {
   "cell_type": "markdown",
   "metadata": {
    "id": "xAoMxqdkqor6"
   },
   "source": [
    "1.7 Realice una gráfica que represente la tabla de frecuencias tomando el top 10 de las palabras que más se repiten."
   ]
  },
  {
   "cell_type": "code",
   "execution_count": 36,
   "metadata": {
    "id": "zFrRCJJkqyu0",
    "scrolled": false
   },
   "outputs": [
    {
     "data": {
      "text/plain": [
       "<AxesSubplot:>"
      ]
     },
     "execution_count": 36,
     "metadata": {},
     "output_type": "execute_result"
    },
    {
     "data": {
      "image/png": "[encoded data removed]",
      "text/plain": [
       "<Figure size 432x288 with 1 Axes>"
      ]
     },
     "metadata": {
      "needs_background": "light"
     },
     "output_type": "display_data"
    }
   ],
   "source": [
    "tabla = tabla.sort_values(0, ascending=False)\n",
    "top10 = tabla.head(10)\n",
    "top10.plot.bar()"
   ]
  },
  {
   "cell_type": "markdown",
   "metadata": {
    "id": "g34EZ5NzqzXz"
   },
   "source": [
    "1.8 ¿Qué puede observar de esta tabla de frecuencias? ¿Qué tipo de palabras fueron las que más se repitieron?\n",
    "\n",
    "**Respuesta:** Conectores"
   ]
  },
  {
   "cell_type": "markdown",
   "metadata": {
    "id": "y8XPkOHUrLw8"
   },
   "source": [
    "1.9 Trate de eliminar alguna de estas palabras. Por ejemplo, colocando una restricción sobre el número de carácteres de las palabras y de nuevo haga la tabla de frecuencias y el gráfico de barras del top 10 de las palabras que más se repiten."
   ]
  },
  {
   "cell_type": "code",
   "execution_count": 37,
   "metadata": {
    "id": "j4uKCONWsDfT",
    "scrolled": true
   },
   "outputs": [
    {
     "data": {
      "text/plain": [
       "<AxesSubplot:>"
      ]
     },
     "execution_count": 37,
     "metadata": {},
     "output_type": "execute_result"
    },
    {
     "data": {
      "image/png": "[encoded data removed]",
      "text/plain": [
       "<Figure size 432x288 with 1 Axes>"
      ]
     },
     "metadata": {
      "needs_background": "light"
     },
     "output_type": "display_data"
    }
   ],
   "source": [
    "cleaned = [x for x in lista_texto if len(x)>2]\n",
    "unicos = list(set(cleaned))\n",
    "conteo = {}\n",
    "for palabra in unicos:\n",
    "    conteo[palabra] = len(re.findall(palabra, texto))\n",
    "tabla = pd.DataFrame.from_dict(conteo, orient='index')\n",
    "tabla = tabla.sort_values(0, ascending=False)\n",
    "top10 = tabla.head(10)\n",
    "top10.plot.bar()"
   ]
  },
  {
   "cell_type": "markdown",
   "metadata": {
    "id": "3iQxpO4XsCaV"
   },
   "source": [
    "1.10 Concluya sobre los puntos anteriores\n",
    "\n",
    "**Respuesta:** Pocas palabras repetidas distintas a conectores"
   ]
  },
  {
   "cell_type": "markdown",
   "metadata": {
    "id": "IuMX_vR3uaRA"
   },
   "source": [
    "1.11 Ahora, realizaremos dos nubes de palabras\n",
    "\n",
    "- Primero una pequeña nube de palabras a partir de la lista obtenida en el punto 1.9\n",
    "\n",
    "- Segundo con la lista completa de palabras.\n",
    "\n",
    "**¡Siga las instrucciones!**"
   ]
  },
  {
   "cell_type": "markdown",
   "metadata": {
    "id": "zDmQrps2uyIe"
   },
   "source": [
    "a. Instale la librería ***wordcloud***"
   ]
  },
  {
   "cell_type": "code",
   "execution_count": 49,
   "metadata": {
    "id": "4Ya4DWJqu_Jb",
    "scrolled": true
   },
   "outputs": [
    {
     "name": "stdout",
     "output_type": "stream",
     "text": [
      "Collecting package metadata (current_repodata.json): ...working... done\n",
      "Solving environment: ...working... done\n",
      "\n",
      "## Package Plan ##\n",
      "\n",
      "  environment location: C:\\ProgramData\\Anaconda3\n",
      "\n",
      "  added / updated specs:\n",
      "    - wordcloud\n",
      "\n",
      "\n",
      "The following NEW packages will be INSTALLED:\n",
      "\n",
      "  wordcloud          pkgs/main/win-64::wordcloud-1.9.2-py39h2bbff1b_0 None\n",
      "\n",
      "\n",
      "Preparing transaction: ...working... done\n",
      "Verifying transaction: ...working... failed\n"
     ]
    },
    {
     "name": "stderr",
     "output_type": "stream",
     "text": [
      "\n",
      "\n",
      "==> WARNING: A newer version of conda exists. <==\n",
      "  current version: 22.9.0\n",
      "  latest version: 23.7.2\n",
      "\n",
      "Please update conda by running\n",
      "\n",
      "    $ conda update -n base -c defaults conda\n",
      "\n",
      "\n",
      "\n",
      "EnvironmentNotWritableError: The current user does not have write permissions to the target environment.\n",
      "  environment location: C:\\ProgramData\\Anaconda3\n",
      "\n",
      "\n"
     ]
    }
   ],
   "source": [
    "import sys\n",
    "!conda install --yes --prefix {sys.prefix} wordcloud"
   ]
  },
  {
   "cell_type": "markdown",
   "metadata": {
    "id": "ziakeAQyu_o0"
   },
   "source": [
    "b. Importe  *WordCloud*  e *ImageColorGenerator* que son las funciones para generar la nube de palabras y darle color a la misma."
   ]
  },
  {
   "cell_type": "code",
   "execution_count": 50,
   "metadata": {
    "id": "eTO5S_j9vP3o",
    "scrolled": true
   },
   "outputs": [
    {
     "ename": "ModuleNotFoundError",
     "evalue": "No module named 'wordcloud'",
     "output_type": "error",
     "traceback": [
      "\u001b[1;31m---------------------------------------------------------------------------\u001b[0m",
      "\u001b[1;31mModuleNotFoundError\u001b[0m                       Traceback (most recent call last)",
      "Input \u001b[1;32mIn [50]\u001b[0m, in \u001b[0;36m<cell line: 1>\u001b[1;34m()\u001b[0m\n\u001b[1;32m----> 1\u001b[0m \u001b[38;5;28;01mfrom\u001b[39;00m \u001b[38;5;21;01mwordcloud\u001b[39;00m \u001b[38;5;28;01mimport\u001b[39;00m WordCloud\n",
      "\u001b[1;31mModuleNotFoundError\u001b[0m: No module named 'wordcloud'"
     ]
    }
   ],
   "source": [
    "from wordcloud import WordCloud #, ImageColorGenerator"
   ]
  },
  {
   "cell_type": "markdown",
   "metadata": {
    "id": "aAiPKcm7vXPu"
   },
   "source": [
    "c. Utilice el siguiente código para generar la nube de palabras"
   ]
  },
  {
   "cell_type": "code",
   "execution_count": null,
   "metadata": {
    "id": "zcN7hEN3vbin"
   },
   "outputs": [],
   "source": [
    "wordcloud = WordCloud(max_font_size=50,                            # tamaño de la fuente\n",
    "                      max_words=100,                               # máximo de palabras en la nube\n",
    "                      background_color=\"white\").generate(texto)    # color de fondo y el método de generación\n",
    "\n",
    "plt.figure(figsize=(10,10))                                        # tamaño del gráfico\n",
    "plt.imshow(wordcloud)                                              # generación del gráfico\n",
    "plt.axis(\"off\")                                                    # para que no aparezcan los ejes\n",
    "plt.show()"
   ]
  },
  {
   "cell_type": "markdown",
   "metadata": {
    "id": "Igvf_-kJwJki"
   },
   "source": [
    "d. Realice otra nube cambiando algunos parámetros del código anterior. Por ejemplo, tamaño, número de palabras, etc. interpolation=\"bilinear\""
   ]
  },
  {
   "cell_type": "markdown",
   "metadata": {
    "id": "nNYsX5XKsb_q"
   },
   "source": [
    "2. Regresemos a la variable *texto* inicial. Observe que en el texto pueden aparecer carácteres que no son letras tales como:\n",
    "\n",
    "- (.) Punto\n",
    "- (,) Coma\n",
    "- (@) Arroba\n",
    "- (#) numeral\n",
    "- (¿,?,!) Signos de admiración y de pregunta\n",
    "- Entre otros.\n",
    "\n",
    "¿En qué afectan estos signos al ejercicio anterior?\n",
    "\n",
    "**Respuesta:**\n",
    "\n",
    "\n"
   ]
  },
  {
   "cell_type": "markdown",
   "metadata": {
    "id": "W3ekJZuctexS"
   },
   "source": [
    "¿Cómo podría eliminar carácteres especiales en el *texto*?"
   ]
  },
  {
   "cell_type": "markdown",
   "metadata": {
    "id": "zfGiG8-_uP8n"
   },
   "source": []
  },
  {
   "cell_type": "code",
   "execution_count": null,
   "metadata": {
    "id": "Nj64uXdhsa1q"
   },
   "outputs": [],
   "source": []
  },
  {
   "cell_type": "markdown",
   "metadata": {
    "id": "Yf5cO7OM2GLL"
   },
   "source": [
    "<FONT SIZE=5 COLOR=\"purple\"> 2. LIBRERÍAS PARA PROCESAMIENTO DE LENGUAJE NATURAL PLN </FONT>\n",
    "\n",
    "Actualmente, existen diferentes librería que se usan para hacer procesamiento de texto y aplicar metodologías de procesamiento de lenguaje natural en general (PLN)\n",
    "\n",
    "- **NLTK** (https://www.nltk.org/): Es una librería desarrollada por Steven Bird y Edward Loper para el Procesamiento de Lenguaje Natural, principalmente en inglés, que tiene herramientas para trabajar con: corpus, recursos léxicos, algoritmos de procesamiento de PLN, etc.\n",
    "\n",
    "- **SpaCy** (https://spacy.io/): Es una librería para el NLP incorpora funcionalidades como Tokenización, Lematización, PoS, NER, etc. en varios idiomas. A diferencia de NLTK que tienen fines de caracter didáctico, SpaCy es más aplicado en la solución de problemas reales.\n",
    "\n",
    "- **Gensim** (https://radimrehurek.com/gensim/) Es una librería muy útil para vectorización de textos, topic modeling, LDA, etc. Preprocesamiento, entre otras aplicaciones y procesos.\n",
    "\n",
    " A continuación, un resumen y comparativas entre diferentes librerías\n",
    "\n",
    " <br>\n",
    "\n",
    "<center><img src=\"https://st11.ning.com/topology/rest/1.0/file/get/2808360875?profile=RESIZE_1024x1024\" alt=\"centered image\" width=\"550\" height=\"700\"></center> <center><figcaption> <FONT SIZE=1 COLOR=\"black\"> Fuente: https://noeliagorod.com/2021/11/25/top-librerias-de-python-para-nlp-2/  </FONT> <figcaption></center>\n",
    "\n"
   ]
  },
  {
   "cell_type": "markdown",
   "metadata": {
    "id": "Tc53rb6Ynbk4"
   },
   "source": [
    "<FONT SIZE=5 COLOR=\"purple\"> 3. EXPRESIONES REGULARES </FONT>\n",
    "\n",
    "- Es un modelo para búsqueda de coincidencias de texto.\n",
    "\n",
    "- Es fundamental en la limpieza de texto para la eliminación de carácteres o búsquedas en texto.\n",
    "\n",
    "- Podemos hacer búsqueda especificando el conjuntos de carácteres usando los corchetes [].\n",
    "\n",
    "- Si usamos el símbolo \"^\" despues de \"[\" estaremos buscando los carácteres que no pertencen a la lista.\n",
    "\n",
    "Veamos algunos ejemplos. Para profundizar en este tema y ver más posibilidades ver:\n",
    "\n",
    "[*EXPRESIONES REGULARES* ▶ 🔎](https://developer.mozilla.org/es/docs/Web/JavaScript/Guide/Regular_expressions)\n",
    "\n"
   ]
  },
  {
   "cell_type": "markdown",
   "metadata": {
    "id": "GCOQcK4OC0he"
   },
   "source": [
    "Iniciamos importante la librería *¨re*. Hay dos funciones claves:\n",
    "\n",
    "1. ***findall***. Sirve para encontrar coincidencias de carácteres.\n",
    "\n",
    "2- ***sub***. Sustituir carácteres por otros"
   ]
  },
  {
   "cell_type": "code",
   "execution_count": null,
   "metadata": {
    "id": "LxTlJAxgCzzO"
   },
   "outputs": [],
   "source": [
    "import re"
   ]
  },
  {
   "cell_type": "code",
   "execution_count": null,
   "metadata": {
    "id": "l6jATUkcFQ2E"
   },
   "outputs": [],
   "source": [
    "cadena = \"El correo de Fabián Sánchez con código AP89504, es fabian.sanchez@urosario.edu.co y en twitter #PLN!!\""
   ]
  },
  {
   "cell_type": "code",
   "execution_count": null,
   "metadata": {
    "colab": {
     "base_uri": "https://localhost:8080/"
    },
    "executionInfo": {
     "elapsed": 193,
     "status": "ok",
     "timestamp": 1691145002318,
     "user": {
      "displayName": "FABIAN SANCHEZ SALAZAR",
      "userId": "13785856712232060994"
     },
     "user_tz": 300
    },
    "id": "pTIWnM4mF4Wn",
    "outputId": "6f3aa74a-d7f4-43a0-85db-fb4e09edd293"
   },
   "outputs": [
    {
     "data": {
      "text/plain": [
       "['Fa']"
      ]
     },
     "execution_count": 9,
     "metadata": {},
     "output_type": "execute_result"
    }
   ],
   "source": [
    "patron = \"Fa\"\n",
    "re.findall(patron, cadena)\n",
    "# Observe que se muestran todas las coincidencias de la cadena completa ya que esta dentro de las comilla \"cadena\""
   ]
  },
  {
   "cell_type": "markdown",
   "metadata": {
    "id": "K8YZ6WlZNZ4g"
   },
   "source": [
    "**.** : punto --- cualquier carácter\n",
    "\n",
    "**\\s** : espacio en blanco\n",
    "   \n",
    "**\\S** : cualquier carácter a excepción del espacio en blanco"
   ]
  },
  {
   "cell_type": "code",
   "execution_count": null,
   "metadata": {
    "colab": {
     "base_uri": "https://localhost:8080/"
    },
    "executionInfo": {
     "elapsed": 194,
     "status": "ok",
     "timestamp": 1691146918317,
     "user": {
      "displayName": "FABIAN SANCHEZ SALAZAR",
      "userId": "13785856712232060994"
     },
     "user_tz": 300
    },
    "id": "oIivLgY2F4P0",
    "outputId": "68d79618-4259-42b1-caf8-03a8e8b6e457"
   },
   "outputs": [
    {
     "data": {
      "text/plain": [
       "['.sa', 'osa']"
      ]
     },
     "execution_count": 20,
     "metadata": {},
     "output_type": "execute_result"
    }
   ],
   "source": [
    "patron = \".sa\"\n",
    "re.findall(patron, cadena)\n",
    "# busca la cadena (cualquier elemento incluso el espacio) seguido de la \"sa\""
   ]
  },
  {
   "cell_type": "code",
   "execution_count": null,
   "metadata": {
    "colab": {
     "base_uri": "https://localhost:8080/"
    },
    "executionInfo": {
     "elapsed": 2,
     "status": "ok",
     "timestamp": 1691147031927,
     "user": {
      "displayName": "FABIAN SANCHEZ SALAZAR",
      "userId": "13785856712232060994"
     },
     "user_tz": 300
    },
    "id": "Yq899nheNmkG",
    "outputId": "e092b0a0-9734-4dcc-dd93-be8cbd0b38fc"
   },
   "outputs": [
    {
     "data": {
      "text/plain": [
       "[' Fabián']"
      ]
     },
     "execution_count": 25,
     "metadata": {},
     "output_type": "execute_result"
    }
   ],
   "source": [
    "patron = \"\\sFabián\"\n",
    "re.findall(patron, cadena)\n",
    "# busca (espacio) más \"Fabián\" : observe que hay solo una coindicencia que corresponde a la palabra interna que tiene un espacio antes"
   ]
  },
  {
   "cell_type": "code",
   "execution_count": null,
   "metadata": {
    "colab": {
     "base_uri": "https://localhost:8080/"
    },
    "executionInfo": {
     "elapsed": 185,
     "status": "ok",
     "timestamp": 1691147072916,
     "user": {
      "displayName": "FABIAN SANCHEZ SALAZAR",
      "userId": "13785856712232060994"
     },
     "user_tz": 300
    },
    "id": "lQ_NJ4JIN83w",
    "outputId": "66d42608-fc15-4158-daeb-27bc9c905724"
   },
   "outputs": [
    {
     "data": {
      "text/plain": [
       "['rreo']"
      ]
     },
     "execution_count": 27,
     "metadata": {},
     "output_type": "execute_result"
    }
   ],
   "source": [
    "patron = \"\\Sreo\"\n",
    "re.findall(patron, cadena)\n",
    "# busca (espacio) más \"Fabián\" : observe que hay solo una coindicencia que corresponde a la palabra interna que tiene un espacio antes"
   ]
  },
  {
   "cell_type": "markdown",
   "metadata": {
    "id": "UBen50t7ONJ0"
   },
   "source": [
    "\"*\" : indica la repetición de un carácter cero o más veces\n",
    "\n",
    "\"+\" : indica la repetición de un carácter una o más veces\n",
    "\n",
    "?   : Es el carácter o cuantificador *reacio*. Añadido a cualquiera de los anteriores se contará con la ocurrencia más corta posible."
   ]
  },
  {
   "cell_type": "code",
   "execution_count": null,
   "metadata": {
    "colab": {
     "base_uri": "https://localhost:8080/"
    },
    "executionInfo": {
     "elapsed": 196,
     "status": "ok",
     "timestamp": 1691147313106,
     "user": {
      "displayName": "FABIAN SANCHEZ SALAZAR",
      "userId": "13785856712232060994"
     },
     "user_tz": 300
    },
    "id": "ylaAfs1COQYg",
    "outputId": "229d5c4a-52b7-4b26-9039-65fa8d0ba4b6"
   },
   "outputs": [
    {
     "data": {
      "text/plain": [
       "['Fabián']"
      ]
     },
     "execution_count": 36,
     "metadata": {},
     "output_type": "execute_result"
    }
   ],
   "source": [
    "patron = \"Fabián*\"\n",
    "re.findall(patron, cadena)\n",
    "# Buscar Fabia o Fabian o Fabiann ..."
   ]
  },
  {
   "cell_type": "code",
   "execution_count": null,
   "metadata": {
    "colab": {
     "base_uri": "https://localhost:8080/"
    },
    "executionInfo": {
     "elapsed": 194,
     "status": "ok",
     "timestamp": 1691147856045,
     "user": {
      "displayName": "FABIAN SANCHEZ SALAZAR",
      "userId": "13785856712232060994"
     },
     "user_tz": 300
    },
    "id": "t939a_NtPPj4",
    "outputId": "11c5d146-2e45-4189-ab3a-625ad94a2c7f"
   },
   "outputs": [
    {
     "data": {
      "text/plain": [
       "['Fabiá']"
      ]
     },
     "execution_count": 47,
     "metadata": {},
     "output_type": "execute_result"
    }
   ],
   "source": [
    "patron = \"Fabián+\"\n",
    "re.findall(patron, cadena)\n",
    "# Buscar Fabian o Fabiann o Fabiannnn..."
   ]
  },
  {
   "cell_type": "markdown",
   "metadata": {
    "id": "WgFJHDMXQdAa"
   },
   "source": [
    "Veamos los siguientes ejemplos"
   ]
  },
  {
   "cell_type": "code",
   "execution_count": null,
   "metadata": {
    "colab": {
     "base_uri": "https://localhost:8080/"
    },
    "executionInfo": {
     "elapsed": 2,
     "status": "ok",
     "timestamp": 1691147701043,
     "user": {
      "displayName": "FABIAN SANCHEZ SALAZAR",
      "userId": "13785856712232060994"
     },
     "user_tz": 300
    },
    "id": "LMLBAwWXQfTF",
    "outputId": "f39675a0-ce3b-4873-df55-8bf82e28d0ff"
   },
   "outputs": [
    {
     "data": {
      "text/plain": [
       "['án', 'án', 'an', 'an', 'en']"
      ]
     },
     "execution_count": 44,
     "metadata": {},
     "output_type": "execute_result"
    }
   ],
   "source": [
    "patron = \"\\Sn\"\n",
    "re.findall(patron, cadena)\n",
    "# Busca así: (cualquier caracter (sin espacio) muchas veces).. h.. (cualquiera)..h..h"
   ]
  },
  {
   "cell_type": "code",
   "execution_count": null,
   "metadata": {
    "colab": {
     "base_uri": "https://localhost:8080/"
    },
    "executionInfo": {
     "elapsed": 185,
     "status": "ok",
     "timestamp": 1691147741581,
     "user": {
      "displayName": "FABIAN SANCHEZ SALAZAR",
      "userId": "13785856712232060994"
     },
     "user_tz": 300
    },
    "id": "XJLDYQUtPzuf",
    "outputId": "3de204dc-b746-4def-f5fc-11482f38fe5c"
   },
   "outputs": [
    {
     "data": {
      "text/plain": [
       "['Fabián', 'Sán', 'fabian.san', 'en']"
      ]
     },
     "execution_count": 45,
     "metadata": {},
     "output_type": "execute_result"
    }
   ],
   "source": [
    "patron = \"\\S*n\"\n",
    "re.findall(patron, cadena)\n",
    "# Busca así: (cualquier caracter (sin espacio) muchas veces).. h.. (cualquiera)..h..h"
   ]
  },
  {
   "cell_type": "code",
   "execution_count": null,
   "metadata": {
    "colab": {
     "base_uri": "https://localhost:8080/"
    },
    "executionInfo": {
     "elapsed": 179,
     "status": "ok",
     "timestamp": 1691147624674,
     "user": {
      "displayName": "FABIAN SANCHEZ SALAZAR",
      "userId": "13785856712232060994"
     },
     "user_tz": 300
    },
    "id": "nOYmYV1WQNE1",
    "outputId": "200e412e-4f3f-4e48-b49e-fe4922b02bbb"
   },
   "outputs": [
    {
     "data": {
      "text/plain": [
       "['Fabián', 'Sán', 'fabian', '.san', 'en']"
      ]
     },
     "execution_count": 42,
     "metadata": {},
     "output_type": "execute_result"
    }
   ],
   "source": [
    "patron = \"\\S*?n\"\n",
    "re.findall(patron, cadena)\n",
    "# Busca así: (cualquier caracter (sin espacio) muchas veces).. h.. (cualquiera)..h..h"
   ]
  },
  {
   "cell_type": "markdown",
   "metadata": {
    "id": "l7QpE-nlR5SR"
   },
   "source": [
    "¿Cómo hacemos para extraer el correo de la oración?"
   ]
  },
  {
   "cell_type": "code",
   "execution_count": null,
   "metadata": {
    "id": "xE6Vbg8RR-6p"
   },
   "outputs": [],
   "source": []
  },
  {
   "cell_type": "markdown",
   "metadata": {
    "id": "Okrc4PsZRVez"
   },
   "source": [
    "**[ ]** : cualquiera de los caracteres especificados\n",
    "\n",
    "**[ ^ ]**  : al inicio de [] es la negación"
   ]
  },
  {
   "cell_type": "code",
   "execution_count": null,
   "metadata": {
    "colab": {
     "base_uri": "https://localhost:8080/"
    },
    "executionInfo": {
     "elapsed": 207,
     "status": "ok",
     "timestamp": 1691148682386,
     "user": {
      "displayName": "FABIAN SANCHEZ SALAZAR",
      "userId": "13785856712232060994"
     },
     "user_tz": 300
    },
    "id": "8MxvuwqvUEsS",
    "outputId": "8d6ab44d-c509-48b2-fc86-22a4572d733a"
   },
   "outputs": [
    {
     "data": {
      "text/plain": [
       "['F', 'a', 'a', 'a', 'a', 'a']"
      ]
     },
     "execution_count": 56,
     "metadata": {},
     "output_type": "execute_result"
    }
   ],
   "source": [
    "patron = \"[Fa]\"\n",
    "re.findall(patron, cadena)\n",
    "# Busca las \"F\" y las \"a\", es decir, busca lo que esta adentro individualmente"
   ]
  },
  {
   "cell_type": "code",
   "execution_count": null,
   "metadata": {
    "id": "VTlvsvVIURxJ"
   },
   "outputs": [],
   "source": [
    "patron = \"[^Fa]\"\n",
    "re.findall(patron, cadena)\n",
    "# Busca los otros caracteres que no son F o a"
   ]
  },
  {
   "cell_type": "code",
   "execution_count": null,
   "metadata": {
    "colab": {
     "base_uri": "https://localhost:8080/"
    },
    "executionInfo": {
     "elapsed": 193,
     "status": "ok",
     "timestamp": 1691148771587,
     "user": {
      "displayName": "FABIAN SANCHEZ SALAZAR",
      "userId": "13785856712232060994"
     },
     "user_tz": 300
    },
    "id": "EGDLDvNHUV_2",
    "outputId": "c591e2ff-d330-45fe-824c-182c08a13565"
   },
   "outputs": [
    {
     "data": {
      "text/plain": [
       "['fabian']"
      ]
     },
     "execution_count": 63,
     "metadata": {},
     "output_type": "execute_result"
    }
   ],
   "source": [
    "patron = \"[Ff]abian\"\n",
    "re.findall(patron, cadena)\n",
    "# Busca Fabian y fabian"
   ]
  },
  {
   "cell_type": "markdown",
   "metadata": {
    "id": "TMcsPMrrUxHV"
   },
   "source": [
    "***Expresiones importantes***\n",
    "\n",
    "- \"[A-Z0-9]\"\n",
    "- \"[^A-Za-z0-9óáéíúñ]\""
   ]
  },
  {
   "cell_type": "code",
   "execution_count": null,
   "metadata": {
    "colab": {
     "base_uri": "https://localhost:8080/"
    },
    "executionInfo": {
     "elapsed": 198,
     "status": "ok",
     "timestamp": 1691148958464,
     "user": {
      "displayName": "FABIAN SANCHEZ SALAZAR",
      "userId": "13785856712232060994"
     },
     "user_tz": 300
    },
    "id": "c6UKUREsUwsy",
    "outputId": "c8e110eb-3f54-41b2-d9b6-e106ab3d2f14"
   },
   "outputs": [
    {
     "data": {
      "text/plain": [
       "['E', 'F', 'S', 'P', 'L', 'N']"
      ]
     },
     "execution_count": 68,
     "metadata": {},
     "output_type": "execute_result"
    }
   ],
   "source": [
    "patron = \"[A-Z]\"\n",
    "re.findall(patron, cadena)\n",
    "# Busca Fabian y fabian"
   ]
  },
  {
   "cell_type": "code",
   "execution_count": null,
   "metadata": {
    "colab": {
     "base_uri": "https://localhost:8080/"
    },
    "executionInfo": {
     "elapsed": 237,
     "status": "ok",
     "timestamp": 1691148985983,
     "user": {
      "displayName": "FABIAN SANCHEZ SALAZAR",
      "userId": "13785856712232060994"
     },
     "user_tz": 300
    },
    "id": "o3ZHHKujVX7w",
    "outputId": "68773941-f5ec-44c6-d2c4-682b263cedee"
   },
   "outputs": [
    {
     "data": {
      "text/plain": [
       "['E', 'F', 'S', 'PLN']"
      ]
     },
     "execution_count": 69,
     "metadata": {},
     "output_type": "execute_result"
    }
   ],
   "source": [
    "patron = \"[A-Z]+\"\n",
    "re.findall(patron, cadena)\n",
    "# Busca Fabian y fabian\n",
    "\n"
   ]
  },
  {
   "cell_type": "code",
   "execution_count": null,
   "metadata": {
    "colab": {
     "base_uri": "https://localhost:8080/"
    },
    "executionInfo": {
     "elapsed": 211,
     "status": "ok",
     "timestamp": 1691149084168,
     "user": {
      "displayName": "FABIAN SANCHEZ SALAZAR",
      "userId": "13785856712232060994"
     },
     "user_tz": 300
    },
    "id": "2zNw-VQmVI4a",
    "outputId": "a1bc5d4f-f155-4a9c-9b57-2ebac847b1e3"
   },
   "outputs": [
    {
     "data": {
      "text/plain": [
       "['El',\n",
       " 'correo',\n",
       " 'de',\n",
       " 'Fabi',\n",
       " 'n',\n",
       " 'S',\n",
       " 'nchez',\n",
       " 'con',\n",
       " 'c',\n",
       " 'digo',\n",
       " 'AP',\n",
       " 'es',\n",
       " 'fabian',\n",
       " 'sanchez',\n",
       " 'urosario',\n",
       " 'edu',\n",
       " 'co',\n",
       " 'y',\n",
       " 'en',\n",
       " 'twitter',\n",
       " 'PLN']"
      ]
     },
     "execution_count": 76,
     "metadata": {},
     "output_type": "execute_result"
    }
   ],
   "source": [
    "patron = \"[A-Za-z]+\"\n",
    "re.findall(patron, cadena)\n",
    "# Busca Fabian y fabian"
   ]
  },
  {
   "cell_type": "code",
   "execution_count": null,
   "metadata": {
    "id": "syjEeBXFVz6z"
   },
   "outputs": [],
   "source": [
    "patron = \"[A-Za-z0-9óáéíú]+\"\n",
    "re.findall(patron, cadena)\n",
    "# Busca Fabian y fabian"
   ]
  },
  {
   "cell_type": "markdown",
   "metadata": {
    "id": "7CGYIolxWJQ7"
   },
   "source": [
    "Ahora bien, usaremos la instrucción *sub* para sustituir carácteres."
   ]
  },
  {
   "cell_type": "code",
   "execution_count": null,
   "metadata": {
    "colab": {
     "base_uri": "https://localhost:8080/",
     "height": 36
    },
    "executionInfo": {
     "elapsed": 224,
     "status": "ok",
     "timestamp": 1691149229205,
     "user": {
      "displayName": "FABIAN SANCHEZ SALAZAR",
      "userId": "13785856712232060994"
     },
     "user_tz": 300
    },
    "id": "7nokOwKRWOq8",
    "outputId": "7f1a3b7a-89a4-4e21-d087-500e7897c00f"
   },
   "outputs": [
    {
     "data": {
      "application/vnd.google.colaboratory.intrinsic+json": {
       "type": "string"
      },
      "text/plain": [
       "'El correo de Fabián Sánchez con código AP89504 es fabian sanchez urosario edu co y en twitter PLN '"
      ]
     },
     "execution_count": 83,
     "metadata": {},
     "output_type": "execute_result"
    }
   ],
   "source": [
    "cadena2 = re.sub (\"[^A-Za-z0-9óáéíúñ]+\",\" \",cadena)\n",
    "cadena2"
   ]
  },
  {
   "cell_type": "markdown",
   "metadata": {
    "id": "fFRQtcqSWae8"
   },
   "source": [
    "¿Qué efecto tiene la expresión anterior?"
   ]
  },
  {
   "cell_type": "markdown",
   "metadata": {
    "id": "OhcroExWWoZf"
   },
   "source": [
    "<FONT SIZE=5 COLOR=\"purple\"> 4. TOKENIZACIÓN </FONT>\n",
    "\n",
    "- Es el proceso de dividir las cadenas de texto de un documento en piezas más pequeñas que se denominan *tokens*.\n",
    "\n",
    "- La librería NTKL tiene funciones para hacer la tokenización de textos."
   ]
  },
  {
   "cell_type": "markdown",
   "metadata": {
    "id": "N4I0_fZlXR2k"
   },
   "source": [
    "Importaremos la librería al espacio de trabajo y la función *word_tokenize*"
   ]
  },
  {
   "cell_type": "code",
   "execution_count": 103,
   "metadata": {
    "executionInfo": {
     "elapsed": 213,
     "status": "ok",
     "timestamp": 1691155865749,
     "user": {
      "displayName": "FABIAN SANCHEZ SALAZAR",
      "userId": "13785856712232060994"
     },
     "user_tz": 300
    },
    "id": "HNrQrvGsXHbT"
   },
   "outputs": [],
   "source": [
    "import nltk\n",
    "# separa cuando encuentra espacio y carácteres especiales\n",
    "from nltk import word_tokenize\n",
    "# separa cuando encuentra espacio y punto\n",
    "from nltk.tokenize import wordpunct_tokenize"
   ]
  },
  {
   "cell_type": "code",
   "execution_count": null,
   "metadata": {
    "id": "Zpe6Kv-VX0oy"
   },
   "outputs": [],
   "source": [
    "nltk.download(\"all\")"
   ]
  },
  {
   "cell_type": "markdown",
   "metadata": {
    "id": "y9c7SZ_xYcRr"
   },
   "source": [
    "Veamos dos ejemplos con las cadenas de texto que hemos abordado."
   ]
  },
  {
   "cell_type": "code",
   "execution_count": null,
   "metadata": {
    "id": "zyGj3mfXXhD7"
   },
   "outputs": [],
   "source": [
    "words_cadena = nltk.word_tokenize(cadena)\n",
    "words_cadena"
   ]
  },
  {
   "cell_type": "code",
   "execution_count": null,
   "metadata": {
    "id": "8N5QPgP4Yq5V"
   },
   "outputs": [],
   "source": [
    "nltk.wordpunct_tokenize(cadena)"
   ]
  },
  {
   "cell_type": "code",
   "execution_count": null,
   "metadata": {
    "id": "heMntbJDYPcC"
   },
   "outputs": [],
   "source": [
    "words_texto = nltk.word_tokenize(texto)\n",
    "words_texto"
   ]
  },
  {
   "cell_type": "markdown",
   "metadata": {
    "id": "1tgbGT2kntHf"
   },
   "source": [
    "<FONT SIZE=5 COLOR=\"purple\"> 5. STOP WORDS </FONT>\n",
    "\n",
    "- Son palabras que no aportan al significado de la oraciones : preprosiciones, conjunciones, adverbios, artículos, etc.\n",
    "\n",
    "- NLTK tiene para una serie de idiomas un listado de Stop Words.\n",
    "\n",
    "- Podemos crear nuestra propia bolsa de palabras dependiendo del lenguaje y contexto.\n"
   ]
  },
  {
   "cell_type": "code",
   "execution_count": 105,
   "metadata": {
    "executionInfo": {
     "elapsed": 218,
     "status": "ok",
     "timestamp": 1691155884973,
     "user": {
      "displayName": "FABIAN SANCHEZ SALAZAR",
      "userId": "13785856712232060994"
     },
     "user_tz": 300
    },
    "id": "sigSL-4ova3P"
   },
   "outputs": [],
   "source": [
    "from nltk.corpus import stopwords"
   ]
  },
  {
   "cell_type": "markdown",
   "metadata": {
    "id": "rGnP-zh4wHgQ"
   },
   "source": [
    "Bolsa de palabras de inglés"
   ]
  },
  {
   "cell_type": "code",
   "execution_count": 107,
   "metadata": {
    "colab": {
     "base_uri": "https://localhost:8080/"
    },
    "executionInfo": {
     "elapsed": 207,
     "status": "ok",
     "timestamp": 1691155907187,
     "user": {
      "displayName": "FABIAN SANCHEZ SALAZAR",
      "userId": "13785856712232060994"
     },
     "user_tz": 300
    },
    "id": "dVKY1flevwh2",
    "outputId": "131693eb-91aa-482c-e478-a7793cb20b10"
   },
   "outputs": [
    {
     "name": "stdout",
     "output_type": "stream",
     "text": [
      "{'you', 'm', 'she', 'itself', 'her', 'their', 'yourself', 'does', 'but', 'out', 'all', 'mustn', 'been', 'further', 'down', 'few', 'mightn', 'my', 'once', 'is', 'or', 'y', 'very', 'have', 'his', 'between', 'so', 'them', 'don', 'how', 'after', 'll', \"she's\", 'to', \"isn't\", 'whom', 'through', 'd', 'should', 'on', 'then', 'of', 'what', 'not', 'we', 'herself', 'such', 'that', 'why', 'and', 'this', 'if', \"you're\", \"hasn't\", 'just', 'some', 'into', 'under', 'ain', 'aren', 'hadn', 'hers', 'as', \"weren't\", 'same', 'me', 'theirs', 'wouldn', 'nor', 'any', 'from', 'isn', 'did', 'your', \"you'll\", 'each', 'ourselves', 'over', 'our', 'didn', \"shan't\", 'during', \"shouldn't\", 'him', 'won', 's', \"you've\", 'a', \"aren't\", \"mustn't\", 'below', 't', 'has', 'until', 'now', 'doesn', 'haven', 'shouldn', 'i', 'ours', 'hasn', 'an', 'when', 'because', 'myself', \"that'll\", 'than', \"wouldn't\", 'themselves', 'himself', 'with', 'will', 'doing', 'can', 'above', 'was', 'up', 'do', 'too', \"haven't\", 'more', 'yourselves', 'were', 'before', \"won't\", 'are', 'again', 'wasn', 'am', 've', \"couldn't\", 'against', 'only', 'it', 'there', 'both', 'they', \"doesn't\", 'being', 'at', \"mightn't\", 'about', 'yours', 'couldn', 'own', \"should've\", 'where', 'most', \"didn't\", 'weren', \"hadn't\", 'o', 'shan', \"it's\", 'by', 'having', 'the', \"needn't\", \"don't\", 'while', 'be', \"you'd\", 'its', 'for', 'ma', 'off', 'no', 'who', 'he', 'other', 're', 'needn', 'those', 'in', 'had', 'here', 'these', 'which', \"wasn't\"}\n"
     ]
    }
   ],
   "source": [
    "print(set(stopwords.words(\"english\")))"
   ]
  },
  {
   "cell_type": "markdown",
   "metadata": {
    "id": "5NW3TOmUwKFO"
   },
   "source": [
    "Bolsa de palabras en español"
   ]
  },
  {
   "cell_type": "code",
   "execution_count": 108,
   "metadata": {
    "colab": {
     "base_uri": "https://localhost:8080/"
    },
    "executionInfo": {
     "elapsed": 231,
     "status": "ok",
     "timestamp": 1691156016951,
     "user": {
      "displayName": "FABIAN SANCHEZ SALAZAR",
      "userId": "13785856712232060994"
     },
     "user_tz": 300
    },
    "id": "f59u5wgGwMoe",
    "outputId": "e034c691-0647-440d-b641-875067f47d5e"
   },
   "outputs": [
    {
     "name": "stdout",
     "output_type": "stream",
     "text": [
      "{'con', 'hubiese', 'algo', 'suya', 'tengamos', 'donde', 'nosotros', 'unos', 'tendrían', 'sentidas', 'míos', 'habido', 'tenga', 'suyos', 'tuve', 'tuviera', 'estuviese', 'tendrán', 'estuviste', 'sobre', 'esto', 'tuvierais', 'estarás', 'habréis', 'hubieras', 'seáis', 'hayáis', 'eso', 'tuvieron', 'porque', 'tendré', 'a', 'ni', 'estaremos', 'estaré', 'habré', 'hayan', 'mucho', 'nos', 'mía', 'nuestros', 'nuestro', 'habéis', 'esa', 'entre', 'hubimos', 'tiene', 'nuestras', 'teníamos', 'hube', 'sintiendo', 'habidas', 'poco', 'su', 'estaréis', 'tuya', 'fueran', 'sentidos', 'habríais', 'fuéramos', 'estuvieran', 'hasta', 'estás', 'ese', 'tienes', 'estarías', 'tenéis', 'estuve', 'durante', 'estaban', 'desde', 'tuvo', 'habrá', 'seamos', 'estuvieron', 'estos', 'fueses', 'fueseis', 'tendremos', 'hubieron', 'estaríais', 'eras', 'tuvieras', 'fuimos', 'tuvimos', 'muchos', 'está', 'hubiésemos', 'teniendo', 'esas', 'vuestra', 'tus', 'tuvieran', 'habías', 'ante', 'habrías', 'soy', 'sentido', 'otro', 'tendría', 'sí', 'estas', 'fuésemos', 'tuvieseis', 'tuviésemos', 'de', 'otros', 'vuestras', 'estados', 'quien', 'otras', 'fuesen', 'estáis', 'del', 'fui', 'tienen', 'me', 'otra', 'fueras', 'estuvo', 'nada', 'se', 'tendríamos', 'había', 'has', 'habíais', 'te', 'hubiera', 'cuando', 'tendrás', 'haya', 'era', 'le', 'que', 'sin', 'fuisteis', 'estad', 'habrían', 'sois', 'tenida', 'estuvimos', 'cual', 'contra', 'yo', 'una', 'hubiéramos', 'sea', 'vuestro', 'tenidas', 'estábamos', 'fuese', 'son', 'sentida', 'estemos', 'sería', 'habremos', 'estuviéramos', 'fue', 'para', 'fuerais', 'tenías', 'siente', 'he', 'tuviéramos', 'hubieran', 'estar', 'tengáis', 'un', 'la', 'al', 'estada', 'sentid', 'han', 'lo', 'y', 'os', 'serías', 'estuviesen', 'tú', 'e', 'tuviste', 'habían', 'es', 'quienes', 'hayamos', 'serían', 'en', 'todos', 'estuviera', 'nuestra', 'estará', 'será', 'seríais', 'estuvieras', 'estuviésemos', 'hubiste', 'serás', 'estuvisteis', 'también', 'estoy', 'ha', 'el', 'nosotras', 'estarán', 'suyas', 'estabais', 'tenidos', 'tenido', 'por', 'hubo', 'estés', 'esos', 'estado', 'estaría', 'tengan', 'qué', 'fuera', 'tendréis', 'están', 'las', 'todo', 'sus', 'éramos', 'tuviesen', 'ellas', 'hubieseis', 'o', 'ya', 'hubierais', 'vuestros', 'les', 'habíamos', 'tendrá', 'estaríamos', 'esta', 'hubieses', 'estuvieseis', 'tuyas', 'tuvieses', 'antes', 'habrás', 'tenemos', 'habríamos', 'tanto', 'estéis', 'fueron', 'más', 'mi', 'tened', 'suyo', 'tuvisteis', 'tu', 'estuvierais', 'estamos', 'sean', 'como', 'mías', 'seríamos', 'habrán', 'tuviese', 'erais', 'eran', 'estaba', 'tenía', 'muy', 'vosotros', 'algunos', 'hemos', 'tengo', 'tendrías', 'estuvieses', 'algunas', 'habría', 'vosotras', 'mío', 'estando', 'hayas', 'uno', 'estarían', 'seas', 'ti', 'estabas', 'ellos', 'esté', 'habida', 'tuyo', 'los', 'habiendo', 'serán', 'seréis', 'mis', 'ella', 'mí', 'somos', 'hay', 'él', 'eres', 'estadas', 'habidos', 'seremos', 'tuyos', 'tendríais', 'tengas', 'hubisteis', 'estén', 'pero', 'no', 'teníais', 'este', 'hubiesen', 'seré', 'fuiste', 'tenían'}\n"
     ]
    }
   ],
   "source": [
    "print(set(stopwords.words(\"spanish\")))"
   ]
  },
  {
   "cell_type": "markdown",
   "metadata": {
    "id": "NbPbpb76wWIW"
   },
   "source": [
    "Veamos un ejemplo"
   ]
  },
  {
   "cell_type": "code",
   "execution_count": 114,
   "metadata": {
    "colab": {
     "base_uri": "https://localhost:8080/"
    },
    "executionInfo": {
     "elapsed": 209,
     "status": "ok",
     "timestamp": 1691156378828,
     "user": {
      "displayName": "FABIAN SANCHEZ SALAZAR",
      "userId": "13785856712232060994"
     },
     "user_tz": 300
    },
    "id": "3VRt5bvLwXaI",
    "outputId": "74b710e4-b30f-4922-f8ba-c88903ca5c3b"
   },
   "outputs": [
    {
     "name": "stdout",
     "output_type": "stream",
     "text": [
      "a\n",
      "por\n",
      "en\n",
      "la\n"
     ]
    }
   ],
   "source": [
    "doc = \"Un radar multa a Fabian Sanchez por conducir demasiado rapido en la autopista\"\n",
    "words = nltk.word_tokenize(doc)\n",
    "for word in words:\n",
    "        if word in stopwords.words('spanish'):\n",
    "            print (word)"
   ]
  }
 ],
 "metadata": {
  "colab": {
   "authorship_tag": "ABX9TyOb2FMzyfadT17FImh/9GKl",
   "provenance": []
  },
  "kernelspec": {
   "display_name": "Python 3 (ipykernel)",
   "language": "python",
   "name": "python3"
  },
  "language_info": {
   "codemirror_mode": {
    "name": "ipython",
    "version": 3
   },
   "file_extension": ".py",
   "mimetype": "text/x-python",
   "name": "python",
   "nbconvert_exporter": "python",
   "pygments_lexer": "ipython3",
   "version": "3.9.12"
  }
 },
 "nbformat": 4,
 "nbformat_minor": 1
}
