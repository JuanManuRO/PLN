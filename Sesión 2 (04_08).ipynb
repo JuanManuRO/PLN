{
 "cells": [
  {
   "cell_type": "markdown",
   "metadata": {
    "id": "Z_EkSDpb8LKJ"
   },
   "source": [
    "<table>\n",
    "    <tr>\n",
    "        <td><img src=\"https://s3.amazonaws.com/media-p.slid.es/uploads/1485763/images/9060062/Header.png\" width=\"300\"/></td>\n",
    "        <td>&nbsp;</td>\n",
    "        <td>\n",
    "            <h1 style=\"font-size:200%;color:blue;text-align:center\">    <FONT COLOR=\"blue\">  Frecuencias-Nubes de Palabras  </FONT>         </h1></td>         \n",
    "        <td>\n",
    "            <tp><p style=\"font-size:99%;text-align:center\">PLN </p></tp>\n",
    "            <tp><p style=\"font-size:115%;text-align:center\">Pregrado MACC 2023-2</p></tp>\n",
    "            <tp><p style=\"font-size:115%;text-align:center\">Prof. Fabián Sánchez</p></tp>\n",
    "        </td>\n",
    "    </tr>\n",
    "</table>"
   ]
  },
  {
   "cell_type": "code",
   "execution_count": 1,
   "metadata": {},
   "outputs": [],
   "source": [
    "import re\n",
    "import pandas as pd\n",
    "import matplotlib.pyplot as plt"
   ]
  },
  {
   "cell_type": "markdown",
   "metadata": {
    "id": "jK4q5-en-A5D"
   },
   "source": [
    "**Objetivo de la sesión:**\n",
    "\n",
    "En esta sección introducimos algunos elementos del preprocesamiento de textos:\n",
    "- Frecuencias de palabras\n",
    "- Nubes de palabras\n",
    "- Expresiones regulares\n",
    "- Tokenización\n",
    "\n",
    "Estos últimos conceptos son fundamentales en el proceso de la normalización y limpieza de texto."
   ]
  },
  {
   "cell_type": "markdown",
   "metadata": {
    "id": "TvHqWBrUndt3"
   },
   "source": [
    "<FONT SIZE=5 COLOR=\"purple\"> 1. GUÍA INTRODUCTORIA </FONT>\n",
    "\n",
    "Para motivar la discusión y abordaje de los conceptos de esta sesión. Vamos a seguir la siguiente guía.\n",
    "\n",
    "- Complete el código que aparece debajo de cada pregunta."
   ]
  },
  {
   "cell_type": "markdown",
   "metadata": {
    "id": "SZxnrz51oHTB"
   },
   "source": [
    "1.1 Seleccione un par de párrafos de alguna fuente e internet de un tema que le interese y coloquelo en la variable *texto*"
   ]
  },
  {
   "cell_type": "code",
   "execution_count": 2,
   "metadata": {
    "id": "3-RBOyn4oRxR"
   },
   "outputs": [],
   "source": [
    "texto= \"Ghostwire: Tokyo es un videojuego de terror y acción japonés perteneciente al género de acción y aventura desarrollado por la empresa Tango Gameworks, el videojuego es la más reciente entrega dirigida por Ikumi Nakamura, una de las artistas principales en videojuegos como Okami, Bayonetta, The Evil Within y es considerada la discípula de Shinki Mikami. Fue anunciado por Mikami en el año 2019, y su lanzamiento se produjo el 25 de marzo de 2022 en PlayStation 5 y Microsoft Windows y el 12 de abril de 2023 en Xbox Series X|S.\""
   ]
  },
  {
   "cell_type": "markdown",
   "metadata": {
    "id": "sUmhM89XoTmR"
   },
   "source": [
    "1.2 ¿Cuántos carácteres tiene la variable texto?"
   ]
  },
  {
   "cell_type": "code",
   "execution_count": 3,
   "metadata": {
    "id": "3y-0iruWo3-p"
   },
   "outputs": [
    {
     "name": "stdout",
     "output_type": "stream",
     "text": [
      "528\n"
     ]
    }
   ],
   "source": [
    "longitud =len(texto)\n",
    "print(longitud)"
   ]
  },
  {
   "cell_type": "markdown",
   "metadata": {
    "id": "pce95ABLpMBR"
   },
   "source": [
    "1.3 ¿Cuál es la función que convierte toda la cadena de texto a minúsculas? ¿Por qué considera que se debe hacer esto en el procesamiento de texto?"
   ]
  },
  {
   "cell_type": "code",
   "execution_count": 4,
   "metadata": {
    "id": "PqVs6iAypapo"
   },
   "outputs": [
    {
     "name": "stdout",
     "output_type": "stream",
     "text": [
      "ghostwire: tokyo es un videojuego de terror y acción japonés perteneciente al género de acción y aventura desarrollado por la empresa tango gameworks, el videojuego es la más reciente entrega dirigida por ikumi nakamura, una de las artistas principales en videojuegos como okami, bayonetta, the evil within y es considerada la discípula de shinki mikami. fue anunciado por mikami en el año 2019, y su lanzamiento se produjo el 25 de marzo de 2022 en playstation 5 y microsoft windows y el 12 de abril de 2023 en xbox series x|s.\n"
     ]
    }
   ],
   "source": [
    "texto_minuscula = texto.lower()\n",
    "print(texto_minuscula)"
   ]
  },
  {
   "cell_type": "markdown",
   "metadata": {
    "id": "OfNZ-8Oso6-R"
   },
   "source": [
    "1.4 ¿ Que función permite separar la cadena de texto en expresiones más pequeñas?"
   ]
  },
  {
   "cell_type": "code",
   "execution_count": 5,
   "metadata": {
    "id": "08V7fOXwpDPQ"
   },
   "outputs": [],
   "source": [
    "lista_texto = texto.split()"
   ]
  },
  {
   "cell_type": "markdown",
   "metadata": {
    "id": "st_BS_Ksp2l1"
   },
   "source": [
    "1.5 ¿Cuál es la longitud de *lista_texto*? Interprete ese valor"
   ]
  },
  {
   "cell_type": "code",
   "execution_count": 6,
   "metadata": {
    "id": "yTwKvhPBp143"
   },
   "outputs": [
    {
     "name": "stdout",
     "output_type": "stream",
     "text": [
      "['Ghostwire:', 'Tokyo', 'es', 'un', 'videojuego', 'de', 'terror', 'y', 'acción', 'japonés', 'perteneciente', 'al', 'género', 'de', 'acción', 'y', 'aventura', 'desarrollado', 'por', 'la', 'empresa', 'Tango', 'Gameworks,', 'el', 'videojuego', 'es', 'la', 'más', 'reciente', 'entrega', 'dirigida', 'por', 'Ikumi', 'Nakamura,', 'una', 'de', 'las', 'artistas', 'principales', 'en', 'videojuegos', 'como', 'Okami,', 'Bayonetta,', 'The', 'Evil', 'Within', 'y', 'es', 'considerada', 'la', 'discípula', 'de', 'Shinki', 'Mikami.', 'Fue', 'anunciado', 'por', 'Mikami', 'en', 'el', 'año', '2019,', 'y', 'su', 'lanzamiento', 'se', 'produjo', 'el', '25', 'de', 'marzo', 'de', '2022', 'en', 'PlayStation', '5', 'y', 'Microsoft', 'Windows', 'y', 'el', '12', 'de', 'abril', 'de', '2023', 'en', 'Xbox', 'Series', 'X|S.']\n"
     ]
    }
   ],
   "source": [
    "print(lista_texto)"
   ]
  },
  {
   "cell_type": "markdown",
   "metadata": {
    "id": "LBmPV9geqho6"
   },
   "source": [
    "1.6 Haga una tabla de frecuencias con lista_texto"
   ]
  },
  {
   "cell_type": "code",
   "execution_count": 7,
   "metadata": {
    "id": "clPp_6ELqoKa",
    "scrolled": true
   },
   "outputs": [],
   "source": [
    "unicos = list(set(lista_texto))\n",
    "conteo = {}\n",
    "for palabra in unicos:\n",
    "    conteo[palabra] = len(re.findall(palabra, texto))\n",
    "tabla = pd.DataFrame.from_dict(conteo, orient='index')"
   ]
  },
  {
   "cell_type": "markdown",
   "metadata": {
    "id": "xAoMxqdkqor6"
   },
   "source": [
    "1.7 Realice una gráfica que represente la tabla de frecuencias tomando el top 10 de las palabras que más se repiten."
   ]
  },
  {
   "cell_type": "code",
   "execution_count": 8,
   "metadata": {
    "id": "zFrRCJJkqyu0",
    "scrolled": false
   },
   "outputs": [
    {
     "data": {
      "text/plain": [
       "<AxesSubplot:>"
      ]
     },
     "execution_count": 8,
     "metadata": {},
     "output_type": "execute_result"
    },
    {
     "data": {
      "image/png": "[encoded data removed]",
      "text/plain": [
       "<Figure size 432x288 with 1 Axes>"
      ]
     },
     "metadata": {
      "needs_background": "light"
     },
     "output_type": "display_data"
    }
   ],
   "source": [
    "tabla = tabla.sort_values(0, ascending=False)\n",
    "top10 = tabla.head(10)\n",
    "top10.plot.bar()"
   ]
  },
  {
   "cell_type": "markdown",
   "metadata": {
    "id": "g34EZ5NzqzXz"
   },
   "source": [
    "1.8 ¿Qué puede observar de esta tabla de frecuencias? ¿Qué tipo de palabras fueron las que más se repitieron?\n",
    "\n",
    "**Respuesta:** Conectores"
   ]
  },
  {
   "cell_type": "markdown",
   "metadata": {
    "id": "y8XPkOHUrLw8"
   },
   "source": [
    "1.9 Trate de eliminar alguna de estas palabras. Por ejemplo, colocando una restricción sobre el número de carácteres de las palabras y de nuevo haga la tabla de frecuencias y el gráfico de barras del top 10 de las palabras que más se repiten."
   ]
  },
  {
   "cell_type": "code",
   "execution_count": 9,
   "metadata": {
    "id": "j4uKCONWsDfT",
    "scrolled": true
   },
   "outputs": [
    {
     "data": {
      "text/plain": [
       "<AxesSubplot:>"
      ]
     },
     "execution_count": 9,
     "metadata": {},
     "output_type": "execute_result"
    },
    {
     "data": {
      "image/png": "[encoded data removed]",
      "text/plain": [
       "<Figure size 432x288 with 1 Axes>"
      ]
     },
     "metadata": {
      "needs_background": "light"
     },
     "output_type": "display_data"
    }
   ],
   "source": [
    "cleaned = [x for x in lista_texto if len(x)>2]\n",
    "unicos = list(set(cleaned))\n",
    "conteo = {}\n",
    "for palabra in unicos:\n",
    "    conteo[palabra] = len(re.findall(palabra, texto))\n",
    "tabla = pd.DataFrame.from_dict(conteo, orient='index')\n",
    "tabla = tabla.sort_values(0, ascending=False)\n",
    "top10 = tabla.head(10)\n",
    "top10.plot.bar()"
   ]
  },
  {
   "cell_type": "markdown",
   "metadata": {
    "id": "3iQxpO4XsCaV"
   },
   "source": [
    "1.10 Concluya sobre los puntos anteriores\n",
    "\n",
    "**Respuesta:** Pocas palabras repetidas distintas a conectores"
   ]
  },
  {
   "cell_type": "markdown",
   "metadata": {
    "id": "IuMX_vR3uaRA"
   },
   "source": [
    "1.11 Ahora, realizaremos dos nubes de palabras\n",
    "\n",
    "- Primero una pequeña nube de palabras a partir de la lista obtenida en el punto 1.9\n",
    "\n",
    "- Segundo con la lista completa de palabras.\n",
    "\n",
    "**¡Siga las instrucciones!**"
   ]
  },
  {
   "cell_type": "markdown",
   "metadata": {
    "id": "zDmQrps2uyIe"
   },
   "source": [
    "a. Instale la librería ***wordcloud***"
   ]
  },
  {
   "cell_type": "code",
   "execution_count": 10,
   "metadata": {
    "id": "4Ya4DWJqu_Jb",
    "scrolled": false
   },
   "outputs": [
    {
     "name": "stdout",
     "output_type": "stream",
     "text": [
      "Collecting package metadata (current_repodata.json): done\n",
      "Solving environment: failed with initial frozen solve. Retrying with flexible solve.\n",
      "Solving environment: \\ ^C\n",
      "failed with repodata from current_repodata.json, will retry with next repodata source.\n",
      "\n",
      "CondaError: KeyboardInterrupt\n",
      "\n"
     ]
    }
   ],
   "source": [
    "import sys\n",
    "!conda install --yes --prefix {sys.prefix} wordcloud"
   ]
  },
  {
   "cell_type": "markdown",
   "metadata": {
    "id": "ziakeAQyu_o0"
   },
   "source": [
    "b. Importe  *WordCloud*  e *ImageColorGenerator* que son las funciones para generar la nube de palabras y darle color a la misma."
   ]
  },
  {
   "cell_type": "code",
   "execution_count": 11,
   "metadata": {
    "id": "eTO5S_j9vP3o",
    "scrolled": true
   },
   "outputs": [],
   "source": [
    "from wordcloud import WordCloud #, ImageColorGenerator"
   ]
  },
  {
   "cell_type": "markdown",
   "metadata": {
    "id": "aAiPKcm7vXPu"
   },
   "source": [
    "c. Utilice el siguiente código para generar la nube de palabras"
   ]
  },
  {
   "cell_type": "code",
   "execution_count": 12,
   "metadata": {
    "id": "zcN7hEN3vbin"
   },
   "outputs": [
    {
     "ename": "ValueError",
     "evalue": "Only supported for TrueType fonts",
     "output_type": "error",
     "traceback": [
      "\u001b[0;31m---------------------------------------------------------------------------\u001b[0m",
      "\u001b[0;31mValueError\u001b[0m                                Traceback (most recent call last)",
      "Input \u001b[0;32mIn [12]\u001b[0m, in \u001b[0;36m<cell line: 1>\u001b[0;34m()\u001b[0m\n\u001b[0;32m----> 1\u001b[0m wordcloud \u001b[38;5;241m=\u001b[39m \u001b[43mWordCloud\u001b[49m\u001b[43m(\u001b[49m\u001b[43mmax_font_size\u001b[49m\u001b[38;5;241;43m=\u001b[39;49m\u001b[38;5;241;43m50\u001b[39;49m\u001b[43m,\u001b[49m\u001b[43m                            \u001b[49m\u001b[38;5;66;43;03m# tamaño de la fuente\u001b[39;49;00m\n\u001b[1;32m      2\u001b[0m \u001b[43m                      \u001b[49m\u001b[43mmax_words\u001b[49m\u001b[38;5;241;43m=\u001b[39;49m\u001b[38;5;241;43m100\u001b[39;49m\u001b[43m,\u001b[49m\u001b[43m                               \u001b[49m\u001b[38;5;66;43;03m# máximo de palabras en la nube\u001b[39;49;00m\n\u001b[1;32m      3\u001b[0m \u001b[43m                      \u001b[49m\u001b[43mbackground_color\u001b[49m\u001b[38;5;241;43m=\u001b[39;49m\u001b[38;5;124;43m\"\u001b[39;49m\u001b[38;5;124;43mwhite\u001b[39;49m\u001b[38;5;124;43m\"\u001b[39;49m\u001b[43m)\u001b[49m\u001b[38;5;241;43m.\u001b[39;49m\u001b[43mgenerate\u001b[49m\u001b[43m(\u001b[49m\u001b[43mtexto\u001b[49m\u001b[43m)\u001b[49m    \u001b[38;5;66;03m# color de fondo y el método de generación\u001b[39;00m\n\u001b[1;32m      5\u001b[0m plt\u001b[38;5;241m.\u001b[39mfigure(figsize\u001b[38;5;241m=\u001b[39m(\u001b[38;5;241m10\u001b[39m,\u001b[38;5;241m10\u001b[39m))                                        \u001b[38;5;66;03m# tamaño del gráfico\u001b[39;00m\n\u001b[1;32m      6\u001b[0m plt\u001b[38;5;241m.\u001b[39mimshow(wordcloud)                                              \u001b[38;5;66;03m# generación del gráfico\u001b[39;00m\n",
      "File \u001b[0;32m~/anaconda3/lib/python3.9/site-packages/wordcloud/wordcloud.py:639\u001b[0m, in \u001b[0;36mWordCloud.generate\u001b[0;34m(self, text)\u001b[0m\n\u001b[1;32m    624\u001b[0m \u001b[38;5;28;01mdef\u001b[39;00m \u001b[38;5;21mgenerate\u001b[39m(\u001b[38;5;28mself\u001b[39m, text):\n\u001b[1;32m    625\u001b[0m     \u001b[38;5;124;03m\"\"\"Generate wordcloud from text.\u001b[39;00m\n\u001b[1;32m    626\u001b[0m \n\u001b[1;32m    627\u001b[0m \u001b[38;5;124;03m    The input \"text\" is expected to be a natural text. If you pass a sorted\u001b[39;00m\n\u001b[0;32m   (...)\u001b[0m\n\u001b[1;32m    637\u001b[0m \u001b[38;5;124;03m    self\u001b[39;00m\n\u001b[1;32m    638\u001b[0m \u001b[38;5;124;03m    \"\"\"\u001b[39;00m\n\u001b[0;32m--> 639\u001b[0m     \u001b[38;5;28;01mreturn\u001b[39;00m \u001b[38;5;28;43mself\u001b[39;49m\u001b[38;5;241;43m.\u001b[39;49m\u001b[43mgenerate_from_text\u001b[49m\u001b[43m(\u001b[49m\u001b[43mtext\u001b[49m\u001b[43m)\u001b[49m\n",
      "File \u001b[0;32m~/anaconda3/lib/python3.9/site-packages/wordcloud/wordcloud.py:621\u001b[0m, in \u001b[0;36mWordCloud.generate_from_text\u001b[0;34m(self, text)\u001b[0m\n\u001b[1;32m    604\u001b[0m \u001b[38;5;124;03m\"\"\"Generate wordcloud from text.\u001b[39;00m\n\u001b[1;32m    605\u001b[0m \n\u001b[1;32m    606\u001b[0m \u001b[38;5;124;03mThe input \"text\" is expected to be a natural text. If you pass a sorted\u001b[39;00m\n\u001b[0;32m   (...)\u001b[0m\n\u001b[1;32m    618\u001b[0m \u001b[38;5;124;03mself\u001b[39;00m\n\u001b[1;32m    619\u001b[0m \u001b[38;5;124;03m\"\"\"\u001b[39;00m\n\u001b[1;32m    620\u001b[0m words \u001b[38;5;241m=\u001b[39m \u001b[38;5;28mself\u001b[39m\u001b[38;5;241m.\u001b[39mprocess_text(text)\n\u001b[0;32m--> 621\u001b[0m \u001b[38;5;28;43mself\u001b[39;49m\u001b[38;5;241;43m.\u001b[39;49m\u001b[43mgenerate_from_frequencies\u001b[49m\u001b[43m(\u001b[49m\u001b[43mwords\u001b[49m\u001b[43m)\u001b[49m\n\u001b[1;32m    622\u001b[0m \u001b[38;5;28;01mreturn\u001b[39;00m \u001b[38;5;28mself\u001b[39m\n",
      "File \u001b[0;32m~/anaconda3/lib/python3.9/site-packages/wordcloud/wordcloud.py:508\u001b[0m, in \u001b[0;36mWordCloud.generate_from_frequencies\u001b[0;34m(self, frequencies, max_font_size)\u001b[0m\n\u001b[1;32m    505\u001b[0m transposed_font \u001b[38;5;241m=\u001b[39m ImageFont\u001b[38;5;241m.\u001b[39mTransposedFont(\n\u001b[1;32m    506\u001b[0m     font, orientation\u001b[38;5;241m=\u001b[39morientation)\n\u001b[1;32m    507\u001b[0m \u001b[38;5;66;03m# get size of resulting text\u001b[39;00m\n\u001b[0;32m--> 508\u001b[0m box_size \u001b[38;5;241m=\u001b[39m \u001b[43mdraw\u001b[49m\u001b[38;5;241;43m.\u001b[39;49m\u001b[43mtextbbox\u001b[49m\u001b[43m(\u001b[49m\u001b[43m(\u001b[49m\u001b[38;5;241;43m0\u001b[39;49m\u001b[43m,\u001b[49m\u001b[43m \u001b[49m\u001b[38;5;241;43m0\u001b[39;49m\u001b[43m)\u001b[49m\u001b[43m,\u001b[49m\u001b[43m \u001b[49m\u001b[43mword\u001b[49m\u001b[43m,\u001b[49m\u001b[43m \u001b[49m\u001b[43mfont\u001b[49m\u001b[38;5;241;43m=\u001b[39;49m\u001b[43mtransposed_font\u001b[49m\u001b[43m,\u001b[49m\u001b[43m \u001b[49m\u001b[43manchor\u001b[49m\u001b[38;5;241;43m=\u001b[39;49m\u001b[38;5;124;43m\"\u001b[39;49m\u001b[38;5;124;43mlt\u001b[39;49m\u001b[38;5;124;43m\"\u001b[39;49m\u001b[43m)\u001b[49m\n\u001b[1;32m    509\u001b[0m \u001b[38;5;66;03m# find possible places using integral image:\u001b[39;00m\n\u001b[1;32m    510\u001b[0m result \u001b[38;5;241m=\u001b[39m occupancy\u001b[38;5;241m.\u001b[39msample_position(box_size[\u001b[38;5;241m3\u001b[39m] \u001b[38;5;241m+\u001b[39m \u001b[38;5;28mself\u001b[39m\u001b[38;5;241m.\u001b[39mmargin,\n\u001b[1;32m    511\u001b[0m                                    box_size[\u001b[38;5;241m2\u001b[39m] \u001b[38;5;241m+\u001b[39m \u001b[38;5;28mself\u001b[39m\u001b[38;5;241m.\u001b[39mmargin,\n\u001b[1;32m    512\u001b[0m                                    random_state)\n",
      "File \u001b[0;32m~/anaconda3/lib/python3.9/site-packages/PIL/ImageDraw.py:671\u001b[0m, in \u001b[0;36mImageDraw.textbbox\u001b[0;34m(self, xy, text, font, anchor, spacing, align, direction, features, language, stroke_width, embedded_color)\u001b[0m\n\u001b[1;32m    669\u001b[0m     font \u001b[38;5;241m=\u001b[39m \u001b[38;5;28mself\u001b[39m\u001b[38;5;241m.\u001b[39mgetfont()\n\u001b[1;32m    670\u001b[0m \u001b[38;5;28;01mif\u001b[39;00m \u001b[38;5;129;01mnot\u001b[39;00m \u001b[38;5;28misinstance\u001b[39m(font, ImageFont\u001b[38;5;241m.\u001b[39mFreeTypeFont):\n\u001b[0;32m--> 671\u001b[0m     \u001b[38;5;28;01mraise\u001b[39;00m \u001b[38;5;167;01mValueError\u001b[39;00m(\u001b[38;5;124m\"\u001b[39m\u001b[38;5;124mOnly supported for TrueType fonts\u001b[39m\u001b[38;5;124m\"\u001b[39m)\n\u001b[1;32m    672\u001b[0m mode \u001b[38;5;241m=\u001b[39m \u001b[38;5;124m\"\u001b[39m\u001b[38;5;124mRGBA\u001b[39m\u001b[38;5;124m\"\u001b[39m \u001b[38;5;28;01mif\u001b[39;00m embedded_color \u001b[38;5;28;01melse\u001b[39;00m \u001b[38;5;28mself\u001b[39m\u001b[38;5;241m.\u001b[39mfontmode\n\u001b[1;32m    673\u001b[0m bbox \u001b[38;5;241m=\u001b[39m font\u001b[38;5;241m.\u001b[39mgetbbox(\n\u001b[1;32m    674\u001b[0m     text, mode, direction, features, language, stroke_width, anchor\n\u001b[1;32m    675\u001b[0m )\n",
      "\u001b[0;31mValueError\u001b[0m: Only supported for TrueType fonts"
     ]
    }
   ],
   "source": [
    "wordcloud = WordCloud(max_font_size=50,                            # tamaño de la fuente\n",
    "                      max_words=100,                               # máximo de palabras en la nube\n",
    "                      background_color=\"white\").generate(texto)    # color de fondo y el método de generación\n",
    "\n",
    "plt.figure(figsize=(10,10))                                        # tamaño del gráfico\n",
    "plt.imshow(wordcloud)                                              # generación del gráfico\n",
    "plt.axis(\"off\")                                                    # para que no aparezcan los ejes\n",
    "plt.show()"
   ]
  },
  {
   "cell_type": "markdown",
   "metadata": {
    "id": "Igvf_-kJwJki"
   },
   "source": [
    "d. Realice otra nube cambiando algunos parámetros del código anterior. Por ejemplo, tamaño, número de palabras, etc. interpolation=\"bilinear\""
   ]
  },
  {
   "cell_type": "markdown",
   "metadata": {
    "id": "nNYsX5XKsb_q"
   },
   "source": [
    "2. Regresemos a la variable *texto* inicial. Observe que en el texto pueden aparecer carácteres que no son letras tales como:\n",
    "\n",
    "- (.) Punto\n",
    "- (,) Coma\n",
    "- (@) Arroba\n",
    "- (#) numeral\n",
    "- (¿,?,!) Signos de admiración y de pregunta\n",
    "- Entre otros.\n",
    "\n",
    "¿En qué afectan estos signos al ejercicio anterior?\n",
    "\n",
    "**Respuesta:**\n",
    "\n",
    "\n"
   ]
  },
  {
   "cell_type": "markdown",
   "metadata": {
    "id": "W3ekJZuctexS"
   },
   "source": [
    "¿Cómo podría eliminar carácteres especiales en el *texto*?"
   ]
  },
  {
   "cell_type": "markdown",
   "metadata": {
    "id": "zfGiG8-_uP8n"
   },
   "source": []
  },
  {
   "cell_type": "markdown",
   "metadata": {
    "id": "Nj64uXdhsa1q"
   },
   "source": [
    "Usando expresiones regulares"
   ]
  },
  {
   "cell_type": "markdown",
   "metadata": {
    "id": "Yf5cO7OM2GLL"
   },
   "source": [
    "<FONT SIZE=5 COLOR=\"purple\"> 2. LIBRERÍAS PARA PROCESAMIENTO DE LENGUAJE NATURAL PLN </FONT>\n",
    "\n",
    "Actualmente, existen diferentes librería que se usan para hacer procesamiento de texto y aplicar metodologías de procesamiento de lenguaje natural en general (PLN)\n",
    "\n",
    "- **NLTK** (https://www.nltk.org/): Es una librería desarrollada por Steven Bird y Edward Loper para el Procesamiento de Lenguaje Natural, principalmente en inglés, que tiene herramientas para trabajar con: corpus, recursos léxicos, algoritmos de procesamiento de PLN, etc.\n",
    "\n",
    "- **SpaCy** (https://spacy.io/): Es una librería para el NLP incorpora funcionalidades como Tokenización, Lematización, PoS, NER, etc. en varios idiomas. A diferencia de NLTK que tienen fines de caracter didáctico, SpaCy es más aplicado en la solución de problemas reales.\n",
    "\n",
    "- **Gensim** (https://radimrehurek.com/gensim/) Es una librería muy útil para vectorización de textos, topic modeling, LDA, etc. Preprocesamiento, entre otras aplicaciones y procesos.\n",
    "\n",
    " A continuación, un resumen y comparativas entre diferentes librerías\n",
    "\n",
    " <br>\n",
    "\n",
    "<center><img src=\"https://st11.ning.com/topology/rest/1.0/file/get/2808360875?profile=RESIZE_1024x1024\" alt=\"centered image\" width=\"550\" height=\"700\"></center> <center><figcaption> <FONT SIZE=1 COLOR=\"black\"> Fuente: https://noeliagorod.com/2021/11/25/top-librerias-de-python-para-nlp-2/  </FONT> <figcaption></center>\n",
    "\n"
   ]
  },
  {
   "cell_type": "markdown",
   "metadata": {
    "id": "Tc53rb6Ynbk4"
   },
   "source": [
    "<FONT SIZE=5 COLOR=\"purple\"> 3. EXPRESIONES REGULARES </FONT>\n",
    "\n",
    "- Es un modelo para búsqueda de coincidencias de texto.\n",
    "\n",
    "- Es fundamental en la limpieza de texto para la eliminación de carácteres o búsquedas en texto.\n",
    "\n",
    "- Podemos hacer búsqueda especificando el conjuntos de carácteres usando los corchetes [].\n",
    "\n",
    "- Si usamos el símbolo \"^\" despues de \"[\" estaremos buscando los carácteres que no pertencen a la lista.\n",
    "\n",
    "Veamos algunos ejemplos. Para profundizar en este tema y ver más posibilidades ver:\n",
    "\n",
    "[*EXPRESIONES REGULARES* ▶ 🔎](https://developer.mozilla.org/es/docs/Web/JavaScript/Guide/Regular_expressions)\n",
    "\n"
   ]
  },
  {
   "cell_type": "markdown",
   "metadata": {
    "id": "GCOQcK4OC0he"
   },
   "source": [
    "Iniciamos importante la librería *¨re*. Hay dos funciones claves:\n",
    "\n",
    "1. ***findall***. Sirve para encontrar coincidencias de carácteres.\n",
    "\n",
    "2- ***sub***. Sustituir carácteres por otros"
   ]
  },
  {
   "cell_type": "code",
   "execution_count": 13,
   "metadata": {
    "id": "LxTlJAxgCzzO"
   },
   "outputs": [],
   "source": [
    "import re"
   ]
  },
  {
   "cell_type": "code",
   "execution_count": 14,
   "metadata": {
    "id": "l6jATUkcFQ2E"
   },
   "outputs": [],
   "source": [
    "cadena = \"El correo de Fabián Sánchez con código AP89504, es fabian.sanchez@urosario.edu.co y en twitter #PLN!!\""
   ]
  },
  {
   "cell_type": "code",
   "execution_count": 15,
   "metadata": {
    "colab": {
     "base_uri": "https://localhost:8080/"
    },
    "executionInfo": {
     "elapsed": 193,
     "status": "ok",
     "timestamp": 1691145002318,
     "user": {
      "displayName": "FABIAN SANCHEZ SALAZAR",
      "userId": "13785856712232060994"
     },
     "user_tz": 300
    },
    "id": "pTIWnM4mF4Wn",
    "outputId": "6f3aa74a-d7f4-43a0-85db-fb4e09edd293"
   },
   "outputs": [
    {
     "data": {
      "text/plain": [
       "['Fa']"
      ]
     },
     "execution_count": 15,
     "metadata": {},
     "output_type": "execute_result"
    }
   ],
   "source": [
    "patron = \"Fa\"\n",
    "re.findall(patron, cadena)\n",
    "# Observe que se muestran todas las coincidencias de la cadena completa ya que esta dentro de las comilla \"cadena\""
   ]
  },
  {
   "cell_type": "markdown",
   "metadata": {
    "id": "K8YZ6WlZNZ4g"
   },
   "source": [
    "**.** : punto --- cualquier carácter\n",
    "\n",
    "**\\s** : espacio en blanco\n",
    "   \n",
    "**\\S** : cualquier carácter a excepción del espacio en blanco"
   ]
  },
  {
   "cell_type": "code",
   "execution_count": 16,
   "metadata": {
    "colab": {
     "base_uri": "https://localhost:8080/"
    },
    "executionInfo": {
     "elapsed": 194,
     "status": "ok",
     "timestamp": 1691146918317,
     "user": {
      "displayName": "FABIAN SANCHEZ SALAZAR",
      "userId": "13785856712232060994"
     },
     "user_tz": 300
    },
    "id": "oIivLgY2F4P0",
    "outputId": "68d79618-4259-42b1-caf8-03a8e8b6e457"
   },
   "outputs": [
    {
     "data": {
      "text/plain": [
       "['.sa', 'osa']"
      ]
     },
     "execution_count": 16,
     "metadata": {},
     "output_type": "execute_result"
    }
   ],
   "source": [
    "patron = \".sa\"\n",
    "re.findall(patron, cadena)\n",
    "# busca la cadena (cualquier elemento incluso el espacio) seguido de la \"sa\""
   ]
  },
  {
   "cell_type": "code",
   "execution_count": 17,
   "metadata": {
    "colab": {
     "base_uri": "https://localhost:8080/"
    },
    "executionInfo": {
     "elapsed": 2,
     "status": "ok",
     "timestamp": 1691147031927,
     "user": {
      "displayName": "FABIAN SANCHEZ SALAZAR",
      "userId": "13785856712232060994"
     },
     "user_tz": 300
    },
    "id": "Yq899nheNmkG",
    "outputId": "e092b0a0-9734-4dcc-dd93-be8cbd0b38fc"
   },
   "outputs": [
    {
     "data": {
      "text/plain": [
       "[' Fabián']"
      ]
     },
     "execution_count": 17,
     "metadata": {},
     "output_type": "execute_result"
    }
   ],
   "source": [
    "patron = \"\\sFabián\"\n",
    "re.findall(patron, cadena)\n",
    "# busca (espacio) más \"Fabián\" : observe que hay solo una coindicencia que corresponde a la palabra interna que tiene un espacio antes"
   ]
  },
  {
   "cell_type": "code",
   "execution_count": 18,
   "metadata": {
    "colab": {
     "base_uri": "https://localhost:8080/"
    },
    "executionInfo": {
     "elapsed": 185,
     "status": "ok",
     "timestamp": 1691147072916,
     "user": {
      "displayName": "FABIAN SANCHEZ SALAZAR",
      "userId": "13785856712232060994"
     },
     "user_tz": 300
    },
    "id": "lQ_NJ4JIN83w",
    "outputId": "66d42608-fc15-4158-daeb-27bc9c905724"
   },
   "outputs": [
    {
     "data": {
      "text/plain": [
       "['rreo']"
      ]
     },
     "execution_count": 18,
     "metadata": {},
     "output_type": "execute_result"
    }
   ],
   "source": [
    "patron = \"\\Sreo\"\n",
    "re.findall(patron, cadena)\n",
    "# busca (espacio) más \"Fabián\" : observe que hay solo una coindicencia que corresponde a la palabra interna que tiene un espacio antes"
   ]
  },
  {
   "cell_type": "markdown",
   "metadata": {
    "id": "UBen50t7ONJ0"
   },
   "source": [
    "\"*\" : indica la repetición de un carácter cero o más veces\n",
    "\n",
    "\"+\" : indica la repetición de un carácter una o más veces\n",
    "\n",
    "?   : Es el carácter o cuantificador *reacio*. Añadido a cualquiera de los anteriores se contará con la ocurrencia más corta posible."
   ]
  },
  {
   "cell_type": "code",
   "execution_count": 19,
   "metadata": {
    "colab": {
     "base_uri": "https://localhost:8080/"
    },
    "executionInfo": {
     "elapsed": 196,
     "status": "ok",
     "timestamp": 1691147313106,
     "user": {
      "displayName": "FABIAN SANCHEZ SALAZAR",
      "userId": "13785856712232060994"
     },
     "user_tz": 300
    },
    "id": "ylaAfs1COQYg",
    "outputId": "229d5c4a-52b7-4b26-9039-65fa8d0ba4b6"
   },
   "outputs": [
    {
     "data": {
      "text/plain": [
       "['Fabián']"
      ]
     },
     "execution_count": 19,
     "metadata": {},
     "output_type": "execute_result"
    }
   ],
   "source": [
    "patron = \"Fabián*\"\n",
    "re.findall(patron, cadena)\n",
    "# Buscar Fabia o Fabian o Fabiann ..."
   ]
  },
  {
   "cell_type": "code",
   "execution_count": 20,
   "metadata": {
    "colab": {
     "base_uri": "https://localhost:8080/"
    },
    "executionInfo": {
     "elapsed": 194,
     "status": "ok",
     "timestamp": 1691147856045,
     "user": {
      "displayName": "FABIAN SANCHEZ SALAZAR",
      "userId": "13785856712232060994"
     },
     "user_tz": 300
    },
    "id": "t939a_NtPPj4",
    "outputId": "11c5d146-2e45-4189-ab3a-625ad94a2c7f"
   },
   "outputs": [
    {
     "data": {
      "text/plain": [
       "['Fabián']"
      ]
     },
     "execution_count": 20,
     "metadata": {},
     "output_type": "execute_result"
    }
   ],
   "source": [
    "patron = \"Fabián+\"\n",
    "re.findall(patron, cadena)\n",
    "# Buscar Fabian o Fabiann o Fabiannnn..."
   ]
  },
  {
   "cell_type": "markdown",
   "metadata": {
    "id": "WgFJHDMXQdAa"
   },
   "source": [
    "Veamos los siguientes ejemplos"
   ]
  },
  {
   "cell_type": "code",
   "execution_count": 21,
   "metadata": {
    "colab": {
     "base_uri": "https://localhost:8080/"
    },
    "executionInfo": {
     "elapsed": 2,
     "status": "ok",
     "timestamp": 1691147701043,
     "user": {
      "displayName": "FABIAN SANCHEZ SALAZAR",
      "userId": "13785856712232060994"
     },
     "user_tz": 300
    },
    "id": "LMLBAwWXQfTF",
    "outputId": "f39675a0-ce3b-4873-df55-8bf82e28d0ff"
   },
   "outputs": [
    {
     "data": {
      "text/plain": [
       "['án', 'án', 'on', 'an', 'an', 'en']"
      ]
     },
     "execution_count": 21,
     "metadata": {},
     "output_type": "execute_result"
    }
   ],
   "source": [
    "patron = \"\\Sn\"\n",
    "re.findall(patron, cadena)\n",
    "# Busca así: (cualquier caracter (sin espacio) muchas veces).. h.. (cualquiera)..h..h"
   ]
  },
  {
   "cell_type": "code",
   "execution_count": 22,
   "metadata": {
    "colab": {
     "base_uri": "https://localhost:8080/"
    },
    "executionInfo": {
     "elapsed": 185,
     "status": "ok",
     "timestamp": 1691147741581,
     "user": {
      "displayName": "FABIAN SANCHEZ SALAZAR",
      "userId": "13785856712232060994"
     },
     "user_tz": 300
    },
    "id": "XJLDYQUtPzuf",
    "outputId": "3de204dc-b746-4def-f5fc-11482f38fe5c"
   },
   "outputs": [
    {
     "data": {
      "text/plain": [
       "['Fabián', 'Sán', 'con', 'fabian.san', 'en']"
      ]
     },
     "execution_count": 22,
     "metadata": {},
     "output_type": "execute_result"
    }
   ],
   "source": [
    "patron = \"\\S*n\"\n",
    "re.findall(patron, cadena)\n",
    "# Busca así: (cualquier caracter (sin espacio) muchas veces).. h.. (cualquiera)..h..h"
   ]
  },
  {
   "cell_type": "code",
   "execution_count": 23,
   "metadata": {
    "colab": {
     "base_uri": "https://localhost:8080/"
    },
    "executionInfo": {
     "elapsed": 179,
     "status": "ok",
     "timestamp": 1691147624674,
     "user": {
      "displayName": "FABIAN SANCHEZ SALAZAR",
      "userId": "13785856712232060994"
     },
     "user_tz": 300
    },
    "id": "nOYmYV1WQNE1",
    "outputId": "200e412e-4f3f-4e48-b49e-fe4922b02bbb"
   },
   "outputs": [
    {
     "data": {
      "text/plain": [
       "['Fabián', 'Sán', 'con', 'fabian', '.san', 'en']"
      ]
     },
     "execution_count": 23,
     "metadata": {},
     "output_type": "execute_result"
    }
   ],
   "source": [
    "patron = \"\\S*?n\"\n",
    "re.findall(patron, cadena)\n",
    "# Busca así: (cualquier caracter (sin espacio) muchas veces).. h.. (cualquiera)..h..h"
   ]
  },
  {
   "cell_type": "markdown",
   "metadata": {
    "id": "l7QpE-nlR5SR"
   },
   "source": [
    "¿Cómo hacemos para extraer el correo de la oración?"
   ]
  },
  {
   "cell_type": "code",
   "execution_count": 27,
   "metadata": {
    "id": "xE6Vbg8RR-6p",
    "scrolled": true
   },
   "outputs": [
    {
     "data": {
      "text/plain": [
       "['fabian.sanchez@urosario.edu.co']"
      ]
     },
     "execution_count": 27,
     "metadata": {},
     "output_type": "execute_result"
    }
   ],
   "source": [
    "patron = \"\\S*@\\S*.co\"\n",
    "re.findall(patron, cadena)"
   ]
  },
  {
   "cell_type": "markdown",
   "metadata": {
    "id": "Okrc4PsZRVez"
   },
   "source": [
    "**[ ]** : cualquiera de los caracteres especificados\n",
    "\n",
    "**[ ^ ]**  : al inicio de [] es la negación"
   ]
  },
  {
   "cell_type": "code",
   "execution_count": 28,
   "metadata": {
    "colab": {
     "base_uri": "https://localhost:8080/"
    },
    "executionInfo": {
     "elapsed": 207,
     "status": "ok",
     "timestamp": 1691148682386,
     "user": {
      "displayName": "FABIAN SANCHEZ SALAZAR",
      "userId": "13785856712232060994"
     },
     "user_tz": 300
    },
    "id": "8MxvuwqvUEsS",
    "outputId": "8d6ab44d-c509-48b2-fc86-22a4572d733a"
   },
   "outputs": [
    {
     "data": {
      "text/plain": [
       "['F', 'a', 'a', 'a', 'a', 'a']"
      ]
     },
     "execution_count": 28,
     "metadata": {},
     "output_type": "execute_result"
    }
   ],
   "source": [
    "patron = \"[Fa]\"\n",
    "re.findall(patron, cadena)\n",
    "# Busca las \"F\" y las \"a\", es decir, busca lo que esta adentro individualmente"
   ]
  },
  {
   "cell_type": "code",
   "execution_count": 29,
   "metadata": {
    "id": "VTlvsvVIURxJ"
   },
   "outputs": [
    {
     "data": {
      "text/plain": [
       "['E',\n",
       " 'l',\n",
       " ' ',\n",
       " 'c',\n",
       " 'o',\n",
       " 'r',\n",
       " 'r',\n",
       " 'e',\n",
       " 'o',\n",
       " ' ',\n",
       " 'd',\n",
       " 'e',\n",
       " ' ',\n",
       " 'b',\n",
       " 'i',\n",
       " 'á',\n",
       " 'n',\n",
       " ' ',\n",
       " 'S',\n",
       " 'á',\n",
       " 'n',\n",
       " 'c',\n",
       " 'h',\n",
       " 'e',\n",
       " 'z',\n",
       " ' ',\n",
       " 'c',\n",
       " 'o',\n",
       " 'n',\n",
       " ' ',\n",
       " 'c',\n",
       " 'ó',\n",
       " 'd',\n",
       " 'i',\n",
       " 'g',\n",
       " 'o',\n",
       " ' ',\n",
       " 'A',\n",
       " 'P',\n",
       " '8',\n",
       " '9',\n",
       " '5',\n",
       " '0',\n",
       " '4',\n",
       " ',',\n",
       " ' ',\n",
       " 'e',\n",
       " 's',\n",
       " ' ',\n",
       " 'f',\n",
       " 'b',\n",
       " 'i',\n",
       " 'n',\n",
       " '.',\n",
       " 's',\n",
       " 'n',\n",
       " 'c',\n",
       " 'h',\n",
       " 'e',\n",
       " 'z',\n",
       " '@',\n",
       " 'u',\n",
       " 'r',\n",
       " 'o',\n",
       " 's',\n",
       " 'r',\n",
       " 'i',\n",
       " 'o',\n",
       " '.',\n",
       " 'e',\n",
       " 'd',\n",
       " 'u',\n",
       " '.',\n",
       " 'c',\n",
       " 'o',\n",
       " ' ',\n",
       " 'y',\n",
       " ' ',\n",
       " 'e',\n",
       " 'n',\n",
       " ' ',\n",
       " 't',\n",
       " 'w',\n",
       " 'i',\n",
       " 't',\n",
       " 't',\n",
       " 'e',\n",
       " 'r',\n",
       " ' ',\n",
       " '#',\n",
       " 'P',\n",
       " 'L',\n",
       " 'N',\n",
       " '!',\n",
       " '!']"
      ]
     },
     "execution_count": 29,
     "metadata": {},
     "output_type": "execute_result"
    }
   ],
   "source": [
    "patron = \"[^Fa]\"\n",
    "re.findall(patron, cadena)\n",
    "# Busca los otros caracteres que no son F o a"
   ]
  },
  {
   "cell_type": "code",
   "execution_count": 30,
   "metadata": {
    "colab": {
     "base_uri": "https://localhost:8080/"
    },
    "executionInfo": {
     "elapsed": 193,
     "status": "ok",
     "timestamp": 1691148771587,
     "user": {
      "displayName": "FABIAN SANCHEZ SALAZAR",
      "userId": "13785856712232060994"
     },
     "user_tz": 300
    },
    "id": "EGDLDvNHUV_2",
    "outputId": "c591e2ff-d330-45fe-824c-182c08a13565"
   },
   "outputs": [
    {
     "data": {
      "text/plain": [
       "['fabian']"
      ]
     },
     "execution_count": 30,
     "metadata": {},
     "output_type": "execute_result"
    }
   ],
   "source": [
    "patron = \"[Ff]abian\"\n",
    "re.findall(patron, cadena)\n",
    "# Busca Fabian y fabian"
   ]
  },
  {
   "cell_type": "markdown",
   "metadata": {
    "id": "TMcsPMrrUxHV"
   },
   "source": [
    "***Expresiones importantes***\n",
    "\n",
    "- \"[A-Z0-9]\"\n",
    "- \"[^A-Za-z0-9óáéíúñ]\""
   ]
  },
  {
   "cell_type": "code",
   "execution_count": 31,
   "metadata": {
    "colab": {
     "base_uri": "https://localhost:8080/"
    },
    "executionInfo": {
     "elapsed": 198,
     "status": "ok",
     "timestamp": 1691148958464,
     "user": {
      "displayName": "FABIAN SANCHEZ SALAZAR",
      "userId": "13785856712232060994"
     },
     "user_tz": 300
    },
    "id": "c6UKUREsUwsy",
    "outputId": "c8e110eb-3f54-41b2-d9b6-e106ab3d2f14"
   },
   "outputs": [
    {
     "data": {
      "text/plain": [
       "['E', 'F', 'S', 'A', 'P', 'P', 'L', 'N']"
      ]
     },
     "execution_count": 31,
     "metadata": {},
     "output_type": "execute_result"
    }
   ],
   "source": [
    "patron = \"[A-Z]\"\n",
    "re.findall(patron, cadena)\n",
    "# Busca Fabian y fabian"
   ]
  },
  {
   "cell_type": "code",
   "execution_count": 32,
   "metadata": {
    "colab": {
     "base_uri": "https://localhost:8080/"
    },
    "executionInfo": {
     "elapsed": 237,
     "status": "ok",
     "timestamp": 1691148985983,
     "user": {
      "displayName": "FABIAN SANCHEZ SALAZAR",
      "userId": "13785856712232060994"
     },
     "user_tz": 300
    },
    "id": "o3ZHHKujVX7w",
    "outputId": "68773941-f5ec-44c6-d2c4-682b263cedee"
   },
   "outputs": [
    {
     "data": {
      "text/plain": [
       "['E', 'F', 'S', 'AP', 'PLN']"
      ]
     },
     "execution_count": 32,
     "metadata": {},
     "output_type": "execute_result"
    }
   ],
   "source": [
    "patron = \"[A-Z]+\"\n",
    "re.findall(patron, cadena)\n",
    "# Busca Fabian y fabian\n",
    "\n"
   ]
  },
  {
   "cell_type": "code",
   "execution_count": 33,
   "metadata": {
    "colab": {
     "base_uri": "https://localhost:8080/"
    },
    "executionInfo": {
     "elapsed": 211,
     "status": "ok",
     "timestamp": 1691149084168,
     "user": {
      "displayName": "FABIAN SANCHEZ SALAZAR",
      "userId": "13785856712232060994"
     },
     "user_tz": 300
    },
    "id": "2zNw-VQmVI4a",
    "outputId": "a1bc5d4f-f155-4a9c-9b57-2ebac847b1e3"
   },
   "outputs": [
    {
     "data": {
      "text/plain": [
       "['El',\n",
       " 'correo',\n",
       " 'de',\n",
       " 'Fabi',\n",
       " 'n',\n",
       " 'S',\n",
       " 'nchez',\n",
       " 'con',\n",
       " 'c',\n",
       " 'digo',\n",
       " 'AP',\n",
       " 'es',\n",
       " 'fabian',\n",
       " 'sanchez',\n",
       " 'urosario',\n",
       " 'edu',\n",
       " 'co',\n",
       " 'y',\n",
       " 'en',\n",
       " 'twitter',\n",
       " 'PLN']"
      ]
     },
     "execution_count": 33,
     "metadata": {},
     "output_type": "execute_result"
    }
   ],
   "source": [
    "patron = \"[A-Za-z]+\"\n",
    "re.findall(patron, cadena)\n",
    "# Busca Fabian y fabian"
   ]
  },
  {
   "cell_type": "code",
   "execution_count": 34,
   "metadata": {
    "id": "syjEeBXFVz6z"
   },
   "outputs": [
    {
     "data": {
      "text/plain": [
       "['El',\n",
       " 'correo',\n",
       " 'de',\n",
       " 'Fabián',\n",
       " 'Sánchez',\n",
       " 'con',\n",
       " 'código',\n",
       " 'AP89504',\n",
       " 'es',\n",
       " 'fabian',\n",
       " 'sanchez',\n",
       " 'urosario',\n",
       " 'edu',\n",
       " 'co',\n",
       " 'y',\n",
       " 'en',\n",
       " 'twitter',\n",
       " 'PLN']"
      ]
     },
     "execution_count": 34,
     "metadata": {},
     "output_type": "execute_result"
    }
   ],
   "source": [
    "patron = \"[A-Za-z0-9óáéíú]+\"\n",
    "re.findall(patron, cadena)\n",
    "# Busca Fabian y fabian"
   ]
  },
  {
   "cell_type": "markdown",
   "metadata": {
    "id": "7CGYIolxWJQ7"
   },
   "source": [
    "Ahora bien, usaremos la instrucción *sub* para sustituir carácteres."
   ]
  },
  {
   "cell_type": "code",
   "execution_count": 35,
   "metadata": {
    "colab": {
     "base_uri": "https://localhost:8080/",
     "height": 36
    },
    "executionInfo": {
     "elapsed": 224,
     "status": "ok",
     "timestamp": 1691149229205,
     "user": {
      "displayName": "FABIAN SANCHEZ SALAZAR",
      "userId": "13785856712232060994"
     },
     "user_tz": 300
    },
    "id": "7nokOwKRWOq8",
    "outputId": "7f1a3b7a-89a4-4e21-d087-500e7897c00f"
   },
   "outputs": [
    {
     "data": {
      "text/plain": [
       "'El correo de Fabián Sánchez con código AP89504 es fabian sanchez urosario edu co y en twitter PLN '"
      ]
     },
     "execution_count": 35,
     "metadata": {},
     "output_type": "execute_result"
    }
   ],
   "source": [
    "cadena2 = re.sub (\"[^A-Za-z0-9óáéíúñ]+\",\" \",cadena)\n",
    "cadena2"
   ]
  },
  {
   "cell_type": "markdown",
   "metadata": {
    "id": "fFRQtcqSWae8"
   },
   "source": [
    "¿Qué efecto tiene la expresión anterior?"
   ]
  },
  {
   "cell_type": "markdown",
   "metadata": {
    "id": "OhcroExWWoZf"
   },
   "source": [
    "<FONT SIZE=5 COLOR=\"purple\"> 4. TOKENIZACIÓN </FONT>\n",
    "\n",
    "- Es el proceso de dividir las cadenas de texto de un documento en piezas más pequeñas que se denominan *tokens*.\n",
    "\n",
    "- La librería NTKL tiene funciones para hacer la tokenización de textos."
   ]
  },
  {
   "cell_type": "markdown",
   "metadata": {
    "id": "N4I0_fZlXR2k"
   },
   "source": [
    "Importaremos la librería al espacio de trabajo y la función *word_tokenize*"
   ]
  },
  {
   "cell_type": "code",
   "execution_count": 36,
   "metadata": {
    "executionInfo": {
     "elapsed": 213,
     "status": "ok",
     "timestamp": 1691155865749,
     "user": {
      "displayName": "FABIAN SANCHEZ SALAZAR",
      "userId": "13785856712232060994"
     },
     "user_tz": 300
    },
    "id": "HNrQrvGsXHbT"
   },
   "outputs": [],
   "source": [
    "import nltk\n",
    "# separa cuando encuentra espacio y carácteres especiales\n",
    "from nltk import word_tokenize\n",
    "# separa cuando encuentra espacio y punto\n",
    "from nltk.tokenize import wordpunct_tokenize"
   ]
  },
  {
   "cell_type": "code",
   "execution_count": 37,
   "metadata": {
    "id": "Zpe6Kv-VX0oy"
   },
   "outputs": [
    {
     "name": "stderr",
     "output_type": "stream",
     "text": [
      "[nltk_data] Downloading collection 'all'\n",
      "[nltk_data]    | \n",
      "[nltk_data]    | Downloading package abc to\n",
      "[nltk_data]    |     /home/estudiantes/nltk_data...\n",
      "[nltk_data]    |   Unzipping corpora/abc.zip.\n",
      "[nltk_data]    | Downloading package alpino to\n",
      "[nltk_data]    |     /home/estudiantes/nltk_data...\n",
      "[nltk_data]    |   Unzipping corpora/alpino.zip.\n",
      "[nltk_data]    | Downloading package averaged_perceptron_tagger to\n",
      "[nltk_data]    |     /home/estudiantes/nltk_data...\n",
      "[nltk_data]    |   Unzipping taggers/averaged_perceptron_tagger.zip.\n",
      "[nltk_data]    | Downloading package averaged_perceptron_tagger_ru to\n",
      "[nltk_data]    |     /home/estudiantes/nltk_data...\n",
      "[nltk_data]    |   Unzipping\n",
      "[nltk_data]    |       taggers/averaged_perceptron_tagger_ru.zip.\n",
      "[nltk_data]    | Downloading package basque_grammars to\n",
      "[nltk_data]    |     /home/estudiantes/nltk_data...\n",
      "[nltk_data]    |   Unzipping grammars/basque_grammars.zip.\n",
      "[nltk_data]    | Downloading package bcp47 to\n",
      "[nltk_data]    |     /home/estudiantes/nltk_data...\n",
      "[nltk_data]    | Downloading package biocreative_ppi to\n",
      "[nltk_data]    |     /home/estudiantes/nltk_data...\n",
      "[nltk_data]    |   Unzipping corpora/biocreative_ppi.zip.\n",
      "[nltk_data]    | Downloading package bllip_wsj_no_aux to\n",
      "[nltk_data]    |     /home/estudiantes/nltk_data...\n",
      "[nltk_data]    |   Unzipping models/bllip_wsj_no_aux.zip.\n",
      "[nltk_data]    | Downloading package book_grammars to\n",
      "[nltk_data]    |     /home/estudiantes/nltk_data...\n",
      "[nltk_data]    |   Unzipping grammars/book_grammars.zip.\n",
      "[nltk_data]    | Downloading package brown to\n",
      "[nltk_data]    |     /home/estudiantes/nltk_data...\n",
      "[nltk_data]    |   Unzipping corpora/brown.zip.\n",
      "[nltk_data]    | Downloading package brown_tei to\n",
      "[nltk_data]    |     /home/estudiantes/nltk_data...\n",
      "[nltk_data]    |   Unzipping corpora/brown_tei.zip.\n",
      "[nltk_data]    | Downloading package cess_cat to\n",
      "[nltk_data]    |     /home/estudiantes/nltk_data...\n",
      "[nltk_data]    |   Unzipping corpora/cess_cat.zip.\n",
      "[nltk_data]    | Downloading package cess_esp to\n",
      "[nltk_data]    |     /home/estudiantes/nltk_data...\n",
      "[nltk_data]    |   Unzipping corpora/cess_esp.zip.\n",
      "[nltk_data]    | Downloading package chat80 to\n",
      "[nltk_data]    |     /home/estudiantes/nltk_data...\n",
      "[nltk_data]    |   Unzipping corpora/chat80.zip.\n",
      "[nltk_data]    | Downloading package city_database to\n",
      "[nltk_data]    |     /home/estudiantes/nltk_data...\n",
      "[nltk_data]    |   Unzipping corpora/city_database.zip.\n",
      "[nltk_data]    | Downloading package cmudict to\n",
      "[nltk_data]    |     /home/estudiantes/nltk_data...\n",
      "[nltk_data]    |   Unzipping corpora/cmudict.zip.\n",
      "[nltk_data]    | Downloading package comparative_sentences to\n",
      "[nltk_data]    |     /home/estudiantes/nltk_data...\n",
      "[nltk_data]    |   Unzipping corpora/comparative_sentences.zip.\n",
      "[nltk_data]    | Downloading package comtrans to\n",
      "[nltk_data]    |     /home/estudiantes/nltk_data...\n",
      "[nltk_data]    | Downloading package conll2000 to\n",
      "[nltk_data]    |     /home/estudiantes/nltk_data...\n",
      "[nltk_data]    |   Unzipping corpora/conll2000.zip.\n",
      "[nltk_data]    | Downloading package conll2002 to\n",
      "[nltk_data]    |     /home/estudiantes/nltk_data...\n",
      "[nltk_data]    |   Unzipping corpora/conll2002.zip.\n",
      "[nltk_data]    | Downloading package conll2007 to\n",
      "[nltk_data]    |     /home/estudiantes/nltk_data...\n",
      "[nltk_data]    | Downloading package crubadan to\n",
      "[nltk_data]    |     /home/estudiantes/nltk_data...\n",
      "[nltk_data]    |   Unzipping corpora/crubadan.zip.\n",
      "[nltk_data]    | Downloading package dependency_treebank to\n",
      "[nltk_data]    |     /home/estudiantes/nltk_data...\n",
      "[nltk_data]    |   Unzipping corpora/dependency_treebank.zip.\n",
      "[nltk_data]    | Downloading package dolch to\n",
      "[nltk_data]    |     /home/estudiantes/nltk_data...\n",
      "[nltk_data]    |   Unzipping corpora/dolch.zip.\n",
      "[nltk_data]    | Downloading package europarl_raw to\n",
      "[nltk_data]    |     /home/estudiantes/nltk_data...\n",
      "[nltk_data]    |   Unzipping corpora/europarl_raw.zip.\n",
      "[nltk_data]    | Downloading package extended_omw to\n",
      "[nltk_data]    |     /home/estudiantes/nltk_data...\n",
      "[nltk_data]    | Downloading package floresta to\n",
      "[nltk_data]    |     /home/estudiantes/nltk_data...\n",
      "[nltk_data]    |   Unzipping corpora/floresta.zip.\n",
      "[nltk_data]    | Downloading package framenet_v15 to\n",
      "[nltk_data]    |     /home/estudiantes/nltk_data...\n",
      "[nltk_data]    |   Unzipping corpora/framenet_v15.zip.\n",
      "[nltk_data]    | Downloading package framenet_v17 to\n",
      "[nltk_data]    |     /home/estudiantes/nltk_data...\n",
      "[nltk_data]    |   Unzipping corpora/framenet_v17.zip.\n",
      "[nltk_data]    | Downloading package gazetteers to\n",
      "[nltk_data]    |     /home/estudiantes/nltk_data...\n",
      "[nltk_data]    |   Unzipping corpora/gazetteers.zip.\n",
      "[nltk_data]    | Downloading package genesis to\n",
      "[nltk_data]    |     /home/estudiantes/nltk_data...\n",
      "[nltk_data]    |   Unzipping corpora/genesis.zip.\n",
      "[nltk_data]    | Downloading package gutenberg to\n",
      "[nltk_data]    |     /home/estudiantes/nltk_data...\n",
      "[nltk_data]    |   Unzipping corpora/gutenberg.zip.\n",
      "[nltk_data]    | Downloading package ieer to\n",
      "[nltk_data]    |     /home/estudiantes/nltk_data...\n",
      "[nltk_data]    |   Unzipping corpora/ieer.zip.\n",
      "[nltk_data]    | Downloading package inaugural to\n",
      "[nltk_data]    |     /home/estudiantes/nltk_data...\n",
      "[nltk_data]    |   Unzipping corpora/inaugural.zip.\n",
      "[nltk_data]    | Downloading package indian to\n",
      "[nltk_data]    |     /home/estudiantes/nltk_data...\n",
      "[nltk_data]    |   Unzipping corpora/indian.zip.\n",
      "[nltk_data]    | Downloading package jeita to\n",
      "[nltk_data]    |     /home/estudiantes/nltk_data...\n",
      "[nltk_data]    | Downloading package kimmo to\n",
      "[nltk_data]    |     /home/estudiantes/nltk_data...\n",
      "[nltk_data]    |   Unzipping corpora/kimmo.zip.\n",
      "[nltk_data]    | Downloading package knbc to\n",
      "[nltk_data]    |     /home/estudiantes/nltk_data...\n",
      "[nltk_data]    | Downloading package large_grammars to\n",
      "[nltk_data]    |     /home/estudiantes/nltk_data...\n",
      "[nltk_data]    |   Unzipping grammars/large_grammars.zip.\n",
      "[nltk_data]    | Downloading package lin_thesaurus to\n",
      "[nltk_data]    |     /home/estudiantes/nltk_data...\n",
      "[nltk_data]    |   Unzipping corpora/lin_thesaurus.zip.\n",
      "[nltk_data]    | Downloading package mac_morpho to\n",
      "[nltk_data]    |     /home/estudiantes/nltk_data...\n",
      "[nltk_data]    |   Unzipping corpora/mac_morpho.zip.\n",
      "[nltk_data]    | Downloading package machado to\n",
      "[nltk_data]    |     /home/estudiantes/nltk_data...\n",
      "[nltk_data]    | Downloading package masc_tagged to\n",
      "[nltk_data]    |     /home/estudiantes/nltk_data...\n",
      "[nltk_data]    | Downloading package maxent_ne_chunker to\n",
      "[nltk_data]    |     /home/estudiantes/nltk_data...\n",
      "[nltk_data]    |   Unzipping chunkers/maxent_ne_chunker.zip.\n",
      "[nltk_data]    | Downloading package maxent_treebank_pos_tagger to\n",
      "[nltk_data]    |     /home/estudiantes/nltk_data...\n",
      "[nltk_data]    |   Unzipping taggers/maxent_treebank_pos_tagger.zip.\n",
      "[nltk_data]    | Downloading package moses_sample to\n",
      "[nltk_data]    |     /home/estudiantes/nltk_data...\n",
      "[nltk_data]    |   Unzipping models/moses_sample.zip.\n",
      "[nltk_data]    | Downloading package movie_reviews to\n",
      "[nltk_data]    |     /home/estudiantes/nltk_data...\n",
      "[nltk_data]    |   Unzipping corpora/movie_reviews.zip.\n",
      "[nltk_data]    | Downloading package mte_teip5 to\n",
      "[nltk_data]    |     /home/estudiantes/nltk_data...\n",
      "[nltk_data]    |   Unzipping corpora/mte_teip5.zip.\n",
      "[nltk_data]    | Downloading package mwa_ppdb to\n",
      "[nltk_data]    |     /home/estudiantes/nltk_data...\n",
      "[nltk_data]    |   Unzipping misc/mwa_ppdb.zip.\n",
      "[nltk_data]    | Downloading package names to\n",
      "[nltk_data]    |     /home/estudiantes/nltk_data...\n",
      "[nltk_data]    |   Unzipping corpora/names.zip.\n",
      "[nltk_data]    | Downloading package nombank.1.0 to\n",
      "[nltk_data]    |     /home/estudiantes/nltk_data...\n",
      "[nltk_data]    | Downloading package nonbreaking_prefixes to\n",
      "[nltk_data]    |     /home/estudiantes/nltk_data...\n",
      "[nltk_data]    |   Unzipping corpora/nonbreaking_prefixes.zip.\n",
      "[nltk_data]    | Downloading package nps_chat to\n",
      "[nltk_data]    |     /home/estudiantes/nltk_data...\n",
      "[nltk_data]    |   Unzipping corpora/nps_chat.zip.\n",
      "[nltk_data]    | Downloading package omw to\n",
      "[nltk_data]    |     /home/estudiantes/nltk_data...\n",
      "[nltk_data]    | Downloading package omw-1.4 to\n",
      "[nltk_data]    |     /home/estudiantes/nltk_data...\n",
      "[nltk_data]    | Downloading package opinion_lexicon to\n",
      "[nltk_data]    |     /home/estudiantes/nltk_data...\n"
     ]
    },
    {
     "name": "stderr",
     "output_type": "stream",
     "text": [
      "[nltk_data]    |   Unzipping corpora/opinion_lexicon.zip.\n",
      "[nltk_data]    | Downloading package panlex_swadesh to\n",
      "[nltk_data]    |     /home/estudiantes/nltk_data...\n",
      "[nltk_data]    | Downloading package paradigms to\n",
      "[nltk_data]    |     /home/estudiantes/nltk_data...\n",
      "[nltk_data]    |   Unzipping corpora/paradigms.zip.\n",
      "[nltk_data]    | Downloading package pe08 to\n",
      "[nltk_data]    |     /home/estudiantes/nltk_data...\n",
      "[nltk_data]    |   Unzipping corpora/pe08.zip.\n",
      "[nltk_data]    | Downloading package perluniprops to\n",
      "[nltk_data]    |     /home/estudiantes/nltk_data...\n",
      "[nltk_data]    |   Unzipping misc/perluniprops.zip.\n",
      "[nltk_data]    | Downloading package pil to\n",
      "[nltk_data]    |     /home/estudiantes/nltk_data...\n",
      "[nltk_data]    |   Unzipping corpora/pil.zip.\n",
      "[nltk_data]    | Downloading package pl196x to\n",
      "[nltk_data]    |     /home/estudiantes/nltk_data...\n",
      "[nltk_data]    |   Unzipping corpora/pl196x.zip.\n",
      "[nltk_data]    | Downloading package porter_test to\n",
      "[nltk_data]    |     /home/estudiantes/nltk_data...\n",
      "[nltk_data]    |   Unzipping stemmers/porter_test.zip.\n",
      "[nltk_data]    | Downloading package ppattach to\n",
      "[nltk_data]    |     /home/estudiantes/nltk_data...\n",
      "[nltk_data]    |   Unzipping corpora/ppattach.zip.\n",
      "[nltk_data]    | Downloading package problem_reports to\n",
      "[nltk_data]    |     /home/estudiantes/nltk_data...\n",
      "[nltk_data]    |   Unzipping corpora/problem_reports.zip.\n",
      "[nltk_data]    | Downloading package product_reviews_1 to\n",
      "[nltk_data]    |     /home/estudiantes/nltk_data...\n",
      "[nltk_data]    |   Unzipping corpora/product_reviews_1.zip.\n",
      "[nltk_data]    | Downloading package product_reviews_2 to\n",
      "[nltk_data]    |     /home/estudiantes/nltk_data...\n",
      "[nltk_data]    |   Unzipping corpora/product_reviews_2.zip.\n",
      "[nltk_data]    | Downloading package propbank to\n",
      "[nltk_data]    |     /home/estudiantes/nltk_data...\n",
      "[nltk_data]    | Downloading package pros_cons to\n",
      "[nltk_data]    |     /home/estudiantes/nltk_data...\n",
      "[nltk_data]    |   Unzipping corpora/pros_cons.zip.\n",
      "[nltk_data]    | Downloading package ptb to\n",
      "[nltk_data]    |     /home/estudiantes/nltk_data...\n",
      "[nltk_data]    |   Unzipping corpora/ptb.zip.\n",
      "[nltk_data]    | Downloading package punkt to\n",
      "[nltk_data]    |     /home/estudiantes/nltk_data...\n",
      "[nltk_data]    |   Unzipping tokenizers/punkt.zip.\n",
      "[nltk_data]    | Downloading package qc to\n",
      "[nltk_data]    |     /home/estudiantes/nltk_data...\n",
      "[nltk_data]    |   Unzipping corpora/qc.zip.\n",
      "[nltk_data]    | Downloading package reuters to\n",
      "[nltk_data]    |     /home/estudiantes/nltk_data...\n",
      "[nltk_data]    | Downloading package rslp to\n",
      "[nltk_data]    |     /home/estudiantes/nltk_data...\n",
      "[nltk_data]    |   Unzipping stemmers/rslp.zip.\n",
      "[nltk_data]    | Downloading package rte to\n",
      "[nltk_data]    |     /home/estudiantes/nltk_data...\n",
      "[nltk_data]    |   Unzipping corpora/rte.zip.\n",
      "[nltk_data]    | Downloading package sample_grammars to\n",
      "[nltk_data]    |     /home/estudiantes/nltk_data...\n",
      "[nltk_data]    |   Unzipping grammars/sample_grammars.zip.\n",
      "[nltk_data]    | Downloading package semcor to\n",
      "[nltk_data]    |     /home/estudiantes/nltk_data...\n",
      "[nltk_data]    | Downloading package senseval to\n",
      "[nltk_data]    |     /home/estudiantes/nltk_data...\n",
      "[nltk_data]    |   Unzipping corpora/senseval.zip.\n",
      "[nltk_data]    | Downloading package sentence_polarity to\n",
      "[nltk_data]    |     /home/estudiantes/nltk_data...\n",
      "[nltk_data]    |   Unzipping corpora/sentence_polarity.zip.\n",
      "[nltk_data]    | Downloading package sentiwordnet to\n",
      "[nltk_data]    |     /home/estudiantes/nltk_data...\n",
      "[nltk_data]    |   Unzipping corpora/sentiwordnet.zip.\n",
      "[nltk_data]    | Downloading package shakespeare to\n",
      "[nltk_data]    |     /home/estudiantes/nltk_data...\n",
      "[nltk_data]    |   Unzipping corpora/shakespeare.zip.\n",
      "[nltk_data]    | Downloading package sinica_treebank to\n",
      "[nltk_data]    |     /home/estudiantes/nltk_data...\n",
      "[nltk_data]    |   Unzipping corpora/sinica_treebank.zip.\n",
      "[nltk_data]    | Downloading package smultron to\n",
      "[nltk_data]    |     /home/estudiantes/nltk_data...\n",
      "[nltk_data]    |   Unzipping corpora/smultron.zip.\n",
      "[nltk_data]    | Downloading package snowball_data to\n",
      "[nltk_data]    |     /home/estudiantes/nltk_data...\n",
      "[nltk_data]    | Downloading package spanish_grammars to\n",
      "[nltk_data]    |     /home/estudiantes/nltk_data...\n",
      "[nltk_data]    |   Unzipping grammars/spanish_grammars.zip.\n",
      "[nltk_data]    | Downloading package state_union to\n",
      "[nltk_data]    |     /home/estudiantes/nltk_data...\n",
      "[nltk_data]    |   Unzipping corpora/state_union.zip.\n",
      "[nltk_data]    | Downloading package stopwords to\n",
      "[nltk_data]    |     /home/estudiantes/nltk_data...\n",
      "[nltk_data]    |   Unzipping corpora/stopwords.zip.\n",
      "[nltk_data]    | Downloading package subjectivity to\n",
      "[nltk_data]    |     /home/estudiantes/nltk_data...\n",
      "[nltk_data]    |   Unzipping corpora/subjectivity.zip.\n",
      "[nltk_data]    | Downloading package swadesh to\n",
      "[nltk_data]    |     /home/estudiantes/nltk_data...\n",
      "[nltk_data]    |   Unzipping corpora/swadesh.zip.\n",
      "[nltk_data]    | Downloading package switchboard to\n",
      "[nltk_data]    |     /home/estudiantes/nltk_data...\n",
      "[nltk_data]    |   Unzipping corpora/switchboard.zip.\n",
      "[nltk_data]    | Downloading package tagsets to\n",
      "[nltk_data]    |     /home/estudiantes/nltk_data...\n",
      "[nltk_data]    |   Unzipping help/tagsets.zip.\n",
      "[nltk_data]    | Downloading package timit to\n",
      "[nltk_data]    |     /home/estudiantes/nltk_data...\n",
      "[nltk_data]    |   Unzipping corpora/timit.zip.\n",
      "[nltk_data]    | Downloading package toolbox to\n",
      "[nltk_data]    |     /home/estudiantes/nltk_data...\n",
      "[nltk_data]    |   Unzipping corpora/toolbox.zip.\n",
      "[nltk_data]    | Downloading package treebank to\n",
      "[nltk_data]    |     /home/estudiantes/nltk_data...\n",
      "[nltk_data]    |   Unzipping corpora/treebank.zip.\n",
      "[nltk_data]    | Downloading package twitter_samples to\n",
      "[nltk_data]    |     /home/estudiantes/nltk_data...\n",
      "[nltk_data]    |   Unzipping corpora/twitter_samples.zip.\n",
      "[nltk_data]    | Downloading package udhr to\n",
      "[nltk_data]    |     /home/estudiantes/nltk_data...\n",
      "[nltk_data]    |   Unzipping corpora/udhr.zip.\n",
      "[nltk_data]    | Downloading package udhr2 to\n",
      "[nltk_data]    |     /home/estudiantes/nltk_data...\n",
      "[nltk_data]    |   Unzipping corpora/udhr2.zip.\n",
      "[nltk_data]    | Downloading package unicode_samples to\n",
      "[nltk_data]    |     /home/estudiantes/nltk_data...\n",
      "[nltk_data]    |   Unzipping corpora/unicode_samples.zip.\n",
      "[nltk_data]    | Downloading package universal_tagset to\n",
      "[nltk_data]    |     /home/estudiantes/nltk_data...\n",
      "[nltk_data]    |   Unzipping taggers/universal_tagset.zip.\n",
      "[nltk_data]    | Downloading package universal_treebanks_v20 to\n",
      "[nltk_data]    |     /home/estudiantes/nltk_data...\n",
      "[nltk_data]    | Downloading package vader_lexicon to\n",
      "[nltk_data]    |     /home/estudiantes/nltk_data...\n",
      "[nltk_data]    | Downloading package verbnet to\n",
      "[nltk_data]    |     /home/estudiantes/nltk_data...\n",
      "[nltk_data]    |   Unzipping corpora/verbnet.zip.\n",
      "[nltk_data]    | Downloading package verbnet3 to\n",
      "[nltk_data]    |     /home/estudiantes/nltk_data...\n",
      "[nltk_data]    |   Unzipping corpora/verbnet3.zip.\n",
      "[nltk_data]    | Downloading package webtext to\n",
      "[nltk_data]    |     /home/estudiantes/nltk_data...\n",
      "[nltk_data]    |   Unzipping corpora/webtext.zip.\n",
      "[nltk_data]    | Downloading package wmt15_eval to\n",
      "[nltk_data]    |     /home/estudiantes/nltk_data...\n",
      "[nltk_data]    |   Unzipping models/wmt15_eval.zip.\n",
      "[nltk_data]    | Downloading package word2vec_sample to\n",
      "[nltk_data]    |     /home/estudiantes/nltk_data...\n",
      "[nltk_data]    |   Unzipping models/word2vec_sample.zip.\n",
      "[nltk_data]    | Downloading package wordnet to\n",
      "[nltk_data]    |     /home/estudiantes/nltk_data...\n",
      "[nltk_data]    | Downloading package wordnet2021 to\n",
      "[nltk_data]    |     /home/estudiantes/nltk_data...\n",
      "[nltk_data]    | Downloading package wordnet2022 to\n",
      "[nltk_data]    |     /home/estudiantes/nltk_data...\n",
      "[nltk_data]    |   Unzipping corpora/wordnet2022.zip.\n",
      "[nltk_data]    | Downloading package wordnet31 to\n",
      "[nltk_data]    |     /home/estudiantes/nltk_data...\n",
      "[nltk_data]    | Downloading package wordnet_ic to\n",
      "[nltk_data]    |     /home/estudiantes/nltk_data...\n",
      "[nltk_data]    |   Unzipping corpora/wordnet_ic.zip.\n",
      "[nltk_data]    | Downloading package words to\n",
      "[nltk_data]    |     /home/estudiantes/nltk_data...\n",
      "[nltk_data]    |   Unzipping corpora/words.zip.\n",
      "[nltk_data]    | Downloading package ycoe to\n",
      "[nltk_data]    |     /home/estudiantes/nltk_data...\n",
      "[nltk_data]    |   Unzipping corpora/ycoe.zip.\n",
      "[nltk_data]    | \n",
      "[nltk_data]  Done downloading collection all\n"
     ]
    },
    {
     "data": {
      "text/plain": [
       "True"
      ]
     },
     "execution_count": 37,
     "metadata": {},
     "output_type": "execute_result"
    }
   ],
   "source": [
    "nltk.download(\"all\")"
   ]
  },
  {
   "cell_type": "markdown",
   "metadata": {
    "id": "y9c7SZ_xYcRr"
   },
   "source": [
    "Veamos dos ejemplos con las cadenas de texto que hemos abordado."
   ]
  },
  {
   "cell_type": "code",
   "execution_count": 38,
   "metadata": {
    "id": "zyGj3mfXXhD7"
   },
   "outputs": [
    {
     "data": {
      "text/plain": [
       "['El',\n",
       " 'correo',\n",
       " 'de',\n",
       " 'Fabián',\n",
       " 'Sánchez',\n",
       " 'con',\n",
       " 'código',\n",
       " 'AP89504',\n",
       " ',',\n",
       " 'es',\n",
       " 'fabian.sanchez',\n",
       " '@',\n",
       " 'urosario.edu.co',\n",
       " 'y',\n",
       " 'en',\n",
       " 'twitter',\n",
       " '#',\n",
       " 'PLN',\n",
       " '!',\n",
       " '!']"
      ]
     },
     "execution_count": 38,
     "metadata": {},
     "output_type": "execute_result"
    }
   ],
   "source": [
    "words_cadena = nltk.word_tokenize(cadena)\n",
    "words_cadena"
   ]
  },
  {
   "cell_type": "code",
   "execution_count": 39,
   "metadata": {
    "id": "8N5QPgP4Yq5V"
   },
   "outputs": [
    {
     "data": {
      "text/plain": [
       "['El',\n",
       " 'correo',\n",
       " 'de',\n",
       " 'Fabián',\n",
       " 'Sánchez',\n",
       " 'con',\n",
       " 'código',\n",
       " 'AP89504',\n",
       " ',',\n",
       " 'es',\n",
       " 'fabian',\n",
       " '.',\n",
       " 'sanchez',\n",
       " '@',\n",
       " 'urosario',\n",
       " '.',\n",
       " 'edu',\n",
       " '.',\n",
       " 'co',\n",
       " 'y',\n",
       " 'en',\n",
       " 'twitter',\n",
       " '#',\n",
       " 'PLN',\n",
       " '!!']"
      ]
     },
     "execution_count": 39,
     "metadata": {},
     "output_type": "execute_result"
    }
   ],
   "source": [
    "nltk.wordpunct_tokenize(cadena)"
   ]
  },
  {
   "cell_type": "code",
   "execution_count": 40,
   "metadata": {
    "id": "heMntbJDYPcC"
   },
   "outputs": [
    {
     "data": {
      "text/plain": [
       "['Ghostwire',\n",
       " ':',\n",
       " 'Tokyo',\n",
       " 'es',\n",
       " 'un',\n",
       " 'videojuego',\n",
       " 'de',\n",
       " 'terror',\n",
       " 'y',\n",
       " 'acción',\n",
       " 'japonés',\n",
       " 'perteneciente',\n",
       " 'al',\n",
       " 'género',\n",
       " 'de',\n",
       " 'acción',\n",
       " 'y',\n",
       " 'aventura',\n",
       " 'desarrollado',\n",
       " 'por',\n",
       " 'la',\n",
       " 'empresa',\n",
       " 'Tango',\n",
       " 'Gameworks',\n",
       " ',',\n",
       " 'el',\n",
       " 'videojuego',\n",
       " 'es',\n",
       " 'la',\n",
       " 'más',\n",
       " 'reciente',\n",
       " 'entrega',\n",
       " 'dirigida',\n",
       " 'por',\n",
       " 'Ikumi',\n",
       " 'Nakamura',\n",
       " ',',\n",
       " 'una',\n",
       " 'de',\n",
       " 'las',\n",
       " 'artistas',\n",
       " 'principales',\n",
       " 'en',\n",
       " 'videojuegos',\n",
       " 'como',\n",
       " 'Okami',\n",
       " ',',\n",
       " 'Bayonetta',\n",
       " ',',\n",
       " 'The',\n",
       " 'Evil',\n",
       " 'Within',\n",
       " 'y',\n",
       " 'es',\n",
       " 'considerada',\n",
       " 'la',\n",
       " 'discípula',\n",
       " 'de',\n",
       " 'Shinki',\n",
       " 'Mikami',\n",
       " '.',\n",
       " 'Fue',\n",
       " 'anunciado',\n",
       " 'por',\n",
       " 'Mikami',\n",
       " 'en',\n",
       " 'el',\n",
       " 'año',\n",
       " '2019',\n",
       " ',',\n",
       " 'y',\n",
       " 'su',\n",
       " 'lanzamiento',\n",
       " 'se',\n",
       " 'produjo',\n",
       " 'el',\n",
       " '25',\n",
       " 'de',\n",
       " 'marzo',\n",
       " 'de',\n",
       " '2022',\n",
       " 'en',\n",
       " 'PlayStation',\n",
       " '5',\n",
       " 'y',\n",
       " 'Microsoft',\n",
       " 'Windows',\n",
       " 'y',\n",
       " 'el',\n",
       " '12',\n",
       " 'de',\n",
       " 'abril',\n",
       " 'de',\n",
       " '2023',\n",
       " 'en',\n",
       " 'Xbox',\n",
       " 'Series',\n",
       " 'X|S',\n",
       " '.']"
      ]
     },
     "execution_count": 40,
     "metadata": {},
     "output_type": "execute_result"
    }
   ],
   "source": [
    "words_texto = nltk.word_tokenize(texto)\n",
    "words_texto"
   ]
  },
  {
   "cell_type": "markdown",
   "metadata": {
    "id": "1tgbGT2kntHf"
   },
   "source": [
    "<FONT SIZE=5 COLOR=\"purple\"> 5. STOP WORDS </FONT>\n",
    "\n",
    "- Son palabras que no aportan al significado de la oraciones : preprosiciones, conjunciones, adverbios, artículos, etc.\n",
    "\n",
    "- NLTK tiene para una serie de idiomas un listado de Stop Words.\n",
    "\n",
    "- Podemos crear nuestra propia bolsa de palabras dependiendo del lenguaje y contexto.\n"
   ]
  },
  {
   "cell_type": "code",
   "execution_count": 41,
   "metadata": {
    "executionInfo": {
     "elapsed": 218,
     "status": "ok",
     "timestamp": 1691155884973,
     "user": {
      "displayName": "FABIAN SANCHEZ SALAZAR",
      "userId": "13785856712232060994"
     },
     "user_tz": 300
    },
    "id": "sigSL-4ova3P"
   },
   "outputs": [],
   "source": [
    "from nltk.corpus import stopwords"
   ]
  },
  {
   "cell_type": "markdown",
   "metadata": {
    "id": "rGnP-zh4wHgQ"
   },
   "source": [
    "Bolsa de palabras de inglés"
   ]
  },
  {
   "cell_type": "code",
   "execution_count": 42,
   "metadata": {
    "colab": {
     "base_uri": "https://localhost:8080/"
    },
    "executionInfo": {
     "elapsed": 207,
     "status": "ok",
     "timestamp": 1691155907187,
     "user": {
      "displayName": "FABIAN SANCHEZ SALAZAR",
      "userId": "13785856712232060994"
     },
     "user_tz": 300
    },
    "id": "dVKY1flevwh2",
    "outputId": "131693eb-91aa-482c-e478-a7793cb20b10"
   },
   "outputs": [
    {
     "name": "stdout",
     "output_type": "stream",
     "text": [
      "{'ourselves', 'this', \"you'd\", 'where', 'll', 'while', 'our', 'won', 'o', 'will', 'have', 's', 'further', 'which', 'they', 'those', 'against', 'any', 'only', 'too', 'a', 'or', \"needn't\", \"you're\", 'needn', 'do', 'of', 'theirs', 'had', \"shouldn't\", 're', \"it's\", 'yours', 'itself', 'during', 'why', \"doesn't\", 'because', 'each', 'not', 'up', 'here', 'them', 'at', 'on', 'such', 'were', \"you've\", \"that'll\", 'you', 'until', 'are', 'between', 'it', 'haven', 'whom', 'hadn', 'its', 'same', 'that', 'wouldn', \"isn't\", \"she's\", 'before', 'my', 'hers', 'in', 'an', \"mustn't\", 'yourself', 'and', 'myself', 'above', 'once', 'by', 'again', 'own', 'very', 've', 'aren', 'having', 'just', 'yourselves', 'wasn', 'we', \"won't\", \"couldn't\", 'm', 'didn', 'he', 'than', 'herself', 'after', 'd', \"hasn't\", \"haven't\", \"weren't\", 'ours', 'to', \"wouldn't\", 'doing', 'been', 'him', 'ain', 'now', 'himself', 'nor', 'more', 'shan', \"hadn't\", 'his', 'isn', 'all', \"shan't\", 'how', 'who', 'the', 'off', \"should've\", 'their', 'about', 'can', \"don't\", 'mustn', 'weren', 'her', 'other', 'has', 'y', 'was', 'below', 'out', 'should', 'hasn', \"you'll\", 'these', 'there', \"didn't\", 't', 'but', 'themselves', 'be', 'ma', 'what', 'is', 'some', 'i', 'both', 'few', \"wasn't\", 'most', 'under', 'your', 'don', 'over', 'she', 'if', 'does', 'no', 'then', 'when', 'me', 'shouldn', 'mightn', 'being', \"mightn't\", 'as', 'into', 'with', 'so', 'from', 'doesn', 'down', 'for', 'through', \"aren't\", 'am', 'couldn', 'did'}\n"
     ]
    }
   ],
   "source": [
    "print(set(stopwords.words(\"english\")))"
   ]
  },
  {
   "cell_type": "markdown",
   "metadata": {
    "id": "5NW3TOmUwKFO"
   },
   "source": [
    "Bolsa de palabras en español"
   ]
  },
  {
   "cell_type": "code",
   "execution_count": 43,
   "metadata": {
    "colab": {
     "base_uri": "https://localhost:8080/"
    },
    "executionInfo": {
     "elapsed": 231,
     "status": "ok",
     "timestamp": 1691156016951,
     "user": {
      "displayName": "FABIAN SANCHEZ SALAZAR",
      "userId": "13785856712232060994"
     },
     "user_tz": 300
    },
    "id": "f59u5wgGwMoe",
    "outputId": "e034c691-0647-440d-b641-875067f47d5e"
   },
   "outputs": [
    {
     "name": "stdout",
     "output_type": "stream",
     "text": [
      "{'tuya', 'fuésemos', 'estuvieras', 'o', 'serían', 'estén', 'tendré', 'tenían', 'tenías', 'seamos', 'estaban', 'más', 'se', 'hubimos', 'suyo', 'mías', 'estuviera', 'tienes', 'el', 'habidos', 'estaba', 'estuviste', 'hubieron', 'otras', 'nos', 'fueras', 'sentida', 'habrán', 'sois', 'tuvisteis', 'habría', 'ella', 'estarás', 'vuestra', 'tendríamos', 'vosotros', 'qué', 'habiendo', 'la', 'en', 'habidas', 'eres', 'ti', 'habida', 'seréis', 'tuvieran', 'otros', 'te', 'habías', 'desde', 'entre', 'tuyos', 'tuvo', 'su', 'fuese', 'tenéis', 'tengo', 'del', 'porque', 'fuisteis', 'tened', 'tenidas', 'tendréis', 'tendría', 'estuviese', 'había', 'hubieses', 'haya', 'estuvieseis', 'seré', 'hayas', 'estaremos', 'míos', 'fuimos', 'los', 'sería', 'antes', 'todos', 'donde', 'sentidos', 'teníais', 'él', 'sean', 'estuvimos', 'tendrá', 'hayamos', 'quien', 'hubiera', 'eran', 'tuviesen', 'tu', 'nosotras', 'a', 'estemos', 'teniendo', 'como', 'tuviéramos', 'tenida', 'sus', 'tendremos', 'estéis', 'estadas', 'estada', 'estábamos', 'tuve', 'muchos', 'estados', 'hubieras', 'sentido', 'estado', 'estuvierais', 'nuestro', 'habríamos', 'serías', 'que', 'poco', 'mía', 'fuesen', 'con', 'tienen', 'otro', 'tuyas', 'tendrán', 'tuviésemos', 'fuerais', 'tuvieras', 'estarán', 'mi', 'tenemos', 'está', 'sí', 'esto', 'estarían', 'ha', 'por', 'tenga', 'habéis', 'estando', 'estaríamos', 'tus', 'lo', 'me', 'tuyo', 'eso', 'somos', 'estuvieran', 'suyas', 'estabas', 'estuvo', 'hubiese', 'esté', 'sin', 'tuviese', 'serán', 'algo', 'fue', 'ante', 'sea', 'tendrás', 'tú', 'habrá', 'un', 'hube', 'las', 'habríais', 'tenía', 'hemos', 'hubierais', 'seáis', 'éramos', 'tengan', 'e', 'estuve', 'estáis', 'estará', 'soy', 'otra', 'suyos', 'han', 'siente', 'todo', 'fueron', 'hayáis', 'hay', 'cual', 'ellas', 'estuviéramos', 'he', 'habremos', 'serás', 'esos', 'están', 'habréis', 'nosotros', 'hubieseis', 'seríamos', 'habrás', 'fuiste', 'nuestros', 'este', 'hubieran', 'tendrías', 'ese', 'has', 'estas', 'hayan', 'tengas', 'hubiéramos', 'tengáis', 'ni', 'hubisteis', 'esta', 'estaría', 'es', 'sentidas', 'yo', 'estuviésemos', 'estuvieses', 'les', 'estarías', 'algunos', 'algunas', 'estás', 'hubiste', 'hasta', 'habíamos', 'vosotras', 'nuestras', 'habíais', 'tuvierais', 'estuvisteis', 'durante', 'estos', 'esa', 'contra', 'tiene', 'tengamos', 'tuvieseis', 'seremos', 'era', 'habrían', 'fuera', 'sentid', 'mucho', 'de', 'tendrían', 'fueseis', 'mis', 'sintiendo', 'tenido', 'cuando', 'vuestros', 'estoy', 'quienes', 'vuestro', 'estés', 'fui', 'estamos', 'os', 'fueses', 'seas', 'erais', 'tuvieses', 'tendríais', 'tenidos', 'nuestra', 'habían', 'estad', 'teníamos', 'unos', 'estaréis', 'estuviesen', 'estaríais', 'nada', 'para', 'hubiésemos', 'habré', 'son', 'y', 'muy', 'habrías', 'una', 'eras', 'tuvimos', 'suya', 'será', 'seríais', 'ya', 'uno', 'esas', 'hubo', 'hubiesen', 'le', 'ellos', 'también', 'fueran', 'estar', 'no', 'estabais', 'fuéramos', 'tuviera', 'al', 'pero', 'tuvieron', 'mí', 'vuestras', 'estuvieron', 'tanto', 'tuviste', 'sobre', 'mío', 'habido', 'estaré'}\n"
     ]
    }
   ],
   "source": [
    "print(set(stopwords.words(\"spanish\")))"
   ]
  },
  {
   "cell_type": "markdown",
   "metadata": {
    "id": "NbPbpb76wWIW"
   },
   "source": [
    "Veamos un ejemplo"
   ]
  },
  {
   "cell_type": "code",
   "execution_count": 44,
   "metadata": {
    "colab": {
     "base_uri": "https://localhost:8080/"
    },
    "executionInfo": {
     "elapsed": 209,
     "status": "ok",
     "timestamp": 1691156378828,
     "user": {
      "displayName": "FABIAN SANCHEZ SALAZAR",
      "userId": "13785856712232060994"
     },
     "user_tz": 300
    },
    "id": "3VRt5bvLwXaI",
    "outputId": "74b710e4-b30f-4922-f8ba-c88903ca5c3b"
   },
   "outputs": [
    {
     "name": "stdout",
     "output_type": "stream",
     "text": [
      "a\n",
      "por\n",
      "en\n",
      "la\n"
     ]
    }
   ],
   "source": [
    "doc = \"Un radar multa a Fabian Sanchez por conducir demasiado rapido en la autopista\"\n",
    "words = nltk.word_tokenize(doc)\n",
    "for word in words:\n",
    "        if word in stopwords.words('spanish'):\n",
    "            print (word)"
   ]
  }
 ],
 "metadata": {
  "colab": {
   "authorship_tag": "ABX9TyOb2FMzyfadT17FImh/9GKl",
   "provenance": []
  },
  "kernelspec": {
   "display_name": "Python 3 (ipykernel)",
   "language": "python",
   "name": "python3"
  },
  "language_info": {
   "codemirror_mode": {
    "name": "ipython",
    "version": 3
   },
   "file_extension": ".py",
   "mimetype": "text/x-python",
   "name": "python",
   "nbconvert_exporter": "python",
   "pygments_lexer": "ipython3",
   "version": "3.9.12"
  }
 },
 "nbformat": 4,
 "nbformat_minor": 1
}
